{
  "nbformat": 4,
  "nbformat_minor": 0,
  "metadata": {
    "colab": {
      "name": "Victor's Copy of MusicVAE.ipynb",
      "version": "0.3.2",
      "provenance": [],
      "collapsed_sections": [
        "hYaJ6dvF0v7g",
        "R122bwRNbTus",
        "lEJptw-V4CEJ",
        "8YxEHHI937Oa",
        "_ss6V0582zpU",
        "0d4st_BlUBdl",
        "6PxW0_7Z2fvb",
        "LGIZPuZc2dIa"
      ],
      "toc_visible": true,
      "include_colab_link": true
    },
    "kernelspec": {
      "name": "python2",
      "display_name": "Python 2"
    }
  },
  "cells": [
    {
      "cell_type": "markdown",
      "metadata": {
        "id": "view-in-github",
        "colab_type": "text"
      },
      "source": [
        "<a href=\"https://colab.research.google.com/github/joshc/magenta/blob/master/MusicVAE.ipynb\" target=\"_parent\"><img src=\"https://colab.research.google.com/assets/colab-badge.svg\" alt=\"Open In Colab\"/></a>"
      ]
    },
    {
      "cell_type": "markdown",
      "metadata": {
        "id": "bhOAxQyU0rhs",
        "colab_type": "text"
      },
      "source": [
        "Copyright 2017 Google LLC.\n",
        "\n",
        "Licensed under the Apache License, Version 2.0 (the \"License\");\n",
        "you may not use this file except in compliance with the License.\n",
        "You may obtain a copy of the License at\n",
        "\n",
        "https://www.apache.org/licenses/LICENSE-2.0\n",
        "\n",
        "Unless required by applicable law or agreed to in writing, software\n",
        "distributed under the License is distributed on an \"AS IS\" BASIS,\n",
        "WITHOUT WARRANTIES OR CONDITIONS OF ANY KIND, either express or implied.\n",
        "See the License for the specific language governing permissions and\n",
        "limitations under the License."
      ]
    },
    {
      "cell_type": "markdown",
      "metadata": {
        "id": "hYaJ6dvF0v7g",
        "colab_type": "text"
      },
      "source": [
        "# MusicVAE: A Hierarchical Latent Vector Model for Learning Long-Term Structure in Music.\n",
        "### ___Adam Roberts, Jesse Engel, Colin Raffel, Curtis Hawthorne, and Douglas Eck___\n",
        "\n",
        "[MusicVAE](https://g.co/magenta/music-vae) learns a latent space of musical scores, providing different modes\n",
        "of interactive musical creation, including:\n",
        "\n",
        "* Random sampling from the prior distribution.\n",
        "* Interpolation between existing sequences.\n",
        "* Manipulation of existing sequences via attribute vectors.\n",
        "\n",
        "Examples of these interactions can be generated below, and selections can be heard in our\n",
        "[YouTube playlist](https://www.youtube.com/playlist?list=PLBUMAYA6kvGU8Cgqh709o5SUvo-zHGTxr).\n",
        "\n",
        "For short sequences (e.g., 2-bar \"loops\"), we use a bidirectional LSTM encoder\n",
        "and LSTM decoder. For longer sequences, we use a novel hierarchical LSTM\n",
        "decoder, which helps the model learn longer-term structures.\n",
        "\n",
        "We also model the interdependencies between instruments by training multiple\n",
        "decoders on the lowest-level embeddings of the hierarchical decoder.\n",
        "\n",
        "For additional details, check out our [blog post](https://g.co/magenta/music-vae) and [paper](https://goo.gl/magenta/musicvae-paper).\n",
        "___\n",
        "\n",
        "This colab notebook is self-contained and should run natively on google cloud. The [code](https://github.com/tensorflow/magenta/tree/master/magenta/models/music_vae) and [checkpoints](http://download.magenta.tensorflow.org/models/music_vae/checkpoints.tar.gz) can be downloaded separately and run locally, which is required if you want to train your own model."
      ]
    },
    {
      "cell_type": "markdown",
      "metadata": {
        "id": "R122bwRNbTus",
        "colab_type": "text"
      },
      "source": [
        "# Basic Instructions\n",
        "\n",
        "1. Double click on the hidden cells to make them visible, or select \"View > Expand Sections\" in the menu at the top.\n",
        "2. Hover over the \"`[ ]`\" in the top-left corner of each cell and click on the \"Play\" button to run it, in order.\n",
        "3. Listen to the generated samples.\n",
        "4. Make it your own: copy the notebook, modify the code, train your own models, upload your own MIDI, etc.!"
      ]
    },
    {
      "cell_type": "markdown",
      "metadata": {
        "id": "ZLfb2a_12wcj",
        "colab_type": "text"
      },
      "source": [
        "# Environment Setup\n",
        "Includes package installation for sequence synthesis. Will take a few minutes.\n"
      ]
    },
    {
      "cell_type": "code",
      "metadata": {
        "id": "PfRDVhNs3UFx",
        "colab_type": "code",
        "cellView": "both",
        "outputId": "bc6bd705-3b05-4874-f74e-0fcab8bb112c",
        "colab": {
          "base_uri": "https://localhost:8080/",
          "height": 846
        }
      },
      "source": [
        "#@title Setup Environment\n",
        "#@test {\"output\": \"ignore\"}\n",
        "\n",
        "import glob\n",
        "\n",
        "print 'Copying checkpoints and example MIDI from GCS. This will take a few minutes...'\n",
        "!gsutil -q -m cp -R gs://download.magenta.tensorflow.org/models/music_vae/colab2/* /content/\n",
        "\n",
        "print 'Installing dependencies...'\n",
        "!apt-get update -qq && apt-get install -qq libfluidsynth1 fluid-soundfont-gm build-essential libasound2-dev libjack-dev\n",
        "!pip install -q pyfluidsynth\n",
        "!pip install -qU magenta\n",
        "\n",
        "# Hack to allow python to pick up the newly-installed fluidsynth lib.\n",
        "# This is only needed for the hosted Colab environment.\n",
        "import ctypes.util\n",
        "orig_ctypes_util_find_library = ctypes.util.find_library\n",
        "def proxy_find_library(lib):\n",
        "  if lib == 'fluidsynth':\n",
        "    return 'libfluidsynth.so.1'\n",
        "  else:\n",
        "    return orig_ctypes_util_find_library(lib)\n",
        "ctypes.util.find_library = proxy_find_library\n",
        "\n",
        "\n",
        "print 'Importing libraries and defining some helper functions...'\n",
        "from google.colab import files\n",
        "import magenta.music as mm\n",
        "from magenta.models.music_vae import configs\n",
        "from magenta.models.music_vae.trained_model import TrainedModel\n",
        "import numpy as np\n",
        "import os\n",
        "import tensorflow as tf\n",
        "\n",
        "# Necessary until pyfluidsynth is updated (>1.2.5).\n",
        "import warnings\n",
        "warnings.filterwarnings(\"ignore\", category=DeprecationWarning)\n",
        "\n",
        "def play(note_sequence):\n",
        "  mm.play_sequence(note_sequence, synth=mm.fluidsynth)\n",
        "\n",
        "def interpolate(model, start_seq, end_seq, num_steps, max_length=32,\n",
        "                assert_same_length=True, temperature=0.5,\n",
        "                individual_duration=4.0):\n",
        "  \"\"\"Interpolates between a start and end sequence.\"\"\"\n",
        "  note_sequences = model.interpolate(\n",
        "      start_seq, end_seq,num_steps=num_steps, length=max_length,\n",
        "      temperature=temperature,\n",
        "      assert_same_length=assert_same_length)\n",
        "\n",
        "  print 'Start Seq Reconstruction'\n",
        "  play(note_sequences[0])\n",
        "  print 'End Seq Reconstruction'\n",
        "  play(note_sequences[-1])\n",
        "  print 'Mean Sequence'\n",
        "  play(note_sequences[num_steps // 2])\n",
        "  print 'Start -> End Interpolation'\n",
        "  interp_seq = mm.sequences_lib.concatenate_sequences(\n",
        "      note_sequences, [individual_duration] * len(note_sequences))\n",
        "  play(interp_seq)\n",
        "  mm.plot_sequence(interp_seq)\n",
        "  return interp_seq if num_steps > 3 else note_sequences[num_steps // 2]\n",
        "\n",
        "def download(note_sequence, filename):\n",
        "  mm.sequence_proto_to_midi_file(note_sequence, filename)\n",
        "  files.download(filename)\n",
        "\n",
        "print 'Done'"
      ],
      "execution_count": 0,
      "outputs": [
        {
          "output_type": "stream",
          "text": [
            "Copying checkpoints and example MIDI from GCS. This will take a few minutes...\n",
            "Installing dependencies...\n",
            "Selecting previously unselected package fluid-soundfont-gm.\n",
            "(Reading database ... 130911 files and directories currently installed.)\n",
            "Preparing to unpack .../fluid-soundfont-gm_3.1-5.1_all.deb ...\n",
            "Unpacking fluid-soundfont-gm (3.1-5.1) ...\n",
            "Selecting previously unselected package libfluidsynth1:amd64.\n",
            "Preparing to unpack .../libfluidsynth1_1.1.9-1_amd64.deb ...\n",
            "Unpacking libfluidsynth1:amd64 (1.1.9-1) ...\n",
            "Setting up fluid-soundfont-gm (3.1-5.1) ...\n",
            "Processing triggers for libc-bin (2.27-3ubuntu1) ...\n",
            "Setting up libfluidsynth1:amd64 (1.1.9-1) ...\n",
            "Processing triggers for libc-bin (2.27-3ubuntu1) ...\n",
            "\u001b[K     |████████████████████████████████| 1.5MB 5.2MB/s \n",
            "\u001b[K     |████████████████████████████████| 26.6MB 88.0MB/s \n",
            "\u001b[K     |████████████████████████████████| 2.6MB 47.4MB/s \n",
            "\u001b[K     |████████████████████████████████| 686kB 51.4MB/s \n",
            "\u001b[K     |████████████████████████████████| 204kB 48.8MB/s \n",
            "\u001b[K     |████████████████████████████████| 2.3MB 39.5MB/s \n",
            "\u001b[K     |████████████████████████████████| 51kB 18.9MB/s \n",
            "\u001b[K     |████████████████████████████████| 11.6MB 38.1MB/s \n",
            "\u001b[K     |████████████████████████████████| 1.0MB 33.4MB/s \n",
            "\u001b[K     |████████████████████████████████| 133kB 50.3MB/s \n",
            "\u001b[K     |████████████████████████████████| 81kB 23.7MB/s \n",
            "\u001b[K     |████████████████████████████████| 337kB 45.6MB/s \n",
            "\u001b[K     |████████████████████████████████| 92kB 27.3MB/s \n",
            "\u001b[K     |████████████████████████████████| 163kB 50.7MB/s \n",
            "\u001b[K     |████████████████████████████████| 102kB 21.1MB/s \n",
            "\u001b[K     |████████████████████████████████| 808kB 48.4MB/s \n",
            "\u001b[?25h  Building wheel for pygtrie (setup.py) ... \u001b[?25l\u001b[?25hdone\n",
            "  Building wheel for sonnet (setup.py) ... \u001b[?25l\u001b[?25hdone\n",
            "  Building wheel for python-rtmidi (setup.py) ... \u001b[?25l\u001b[?25hdone\n",
            "  Building wheel for avro (setup.py) ... \u001b[?25l\u001b[?25hdone\n",
            "  Building wheel for pyvcf (setup.py) ... \u001b[?25l\u001b[?25hdone\n",
            "  Building wheel for hdfs (setup.py) ... \u001b[?25l\u001b[?25hdone\n",
            "  Building wheel for pydot (setup.py) ... \u001b[?25l\u001b[?25hdone\n",
            "  Building wheel for oauth2client (setup.py) ... \u001b[?25l\u001b[?25hdone\n",
            "  Building wheel for proto-google-cloud-datastore-v1 (setup.py) ... \u001b[?25l\u001b[?25hdone\n",
            "  Building wheel for googledatastore (setup.py) ... \u001b[?25l\u001b[?25hdone\n",
            "  Building wheel for networkx (setup.py) ... \u001b[?25l\u001b[?25hdone\n",
            "  Building wheel for docopt (setup.py) ... \u001b[?25l\u001b[?25hdone\n",
            "  Building wheel for grpc-google-iam-v1 (setup.py) ... \u001b[?25l\u001b[?25hdone\n",
            "\u001b[31mERROR: google-cloud-storage 1.13.2 has requirement google-cloud-core<0.30dev,>=0.29.0, but you'll have google-cloud-core 0.28.1 which is incompatible.\u001b[0m\n",
            "\u001b[31mERROR: fastai 0.7.0 has requirement torch<0.4, but you'll have torch 1.1.0 which is incompatible.\u001b[0m\n",
            "\u001b[31mERROR: albumentations 0.1.12 has requirement imgaug<0.2.7,>=0.2.5, but you'll have imgaug 0.2.9 which is incompatible.\u001b[0m\n",
            "\u001b[31mERROR: google-cloud-translate 1.3.3 has requirement google-cloud-core<0.30dev,>=0.29.0, but you'll have google-cloud-core 0.28.1 which is incompatible.\u001b[0m\n"
          ],
          "name": "stdout"
        }
      ]
    },
    {
      "cell_type": "markdown",
      "metadata": {
        "id": "C_TD5psbv9Ax",
        "colab_type": "text"
      },
      "source": [
        "# 2-Bar Drums Model\n",
        "\n",
        "Below are 4 pre-trained models to experiment with. The first 3 map the 61 MIDI drum \"pitches\" to a reduced set of 9 classes (bass, snare, closed hi-hat, open hi-hat, low tom, mid tom, high tom, crash cymbal, ride cymbal) for a simplified but less expressive output space. The last model uses a [NADE](http://homepages.inf.ed.ac.uk/imurray2/pub/11nade/) to represent all possible MIDI drum \"pitches\".\n",
        "\n",
        "* **drums_2bar_oh_lokl**: This *low* KL model was trained for more *realistic* sampling. The output is a one-hot encoding of 2^9 combinations of hits. It has a single-layer bidirectional LSTM encoder with 512 nodes in each direction, a 2-layer LSTM decoder with 256 nodes in each layer, and a Z with 256 dimensions. During training it was given 0 free bits, and had a fixed beta value of 0.8. After 300k steps, the final accuracy is 0.73 and KL divergence is 11 bits.\n",
        "* **drums_2bar_oh_hikl**: This *high* KL model was trained for *better reconstruction and interpolation*. The output is a one-hot encoding of 2^9 combinations of hits. It has a single-layer bidirectional LSTM encoder with 512 nodes in each direction, a 2-layer LSTM decoder with 256 nodes in each layer, and a Z with 256 dimensions. During training it was given 96 free bits and had a fixed beta value of 0.2. It was trained with scheduled sampling with an inverse sigmoid schedule and a rate of 1000. After 300k, steps the final accuracy is 0.97 and KL divergence is 107 bits.\n",
        "* **drums_2bar_nade_reduced**: This model outputs a multi-label \"pianoroll\" with 9 classes. It has a single-layer bidirectional LSTM encoder with 512 nodes in each direction, a 2-layer LSTM-NADE decoder with 512 nodes in each layer and 9-dimensional NADE with 128 hidden units, and a Z with 256 dimensions. During training it was given 96 free bits and has a fixed beta value of 0.2. It was trained with scheduled sampling with an inverse sigmoid schedule and a rate of 1000. After 300k steps, the final accuracy is 0.98 and KL divergence is 110 bits.\n",
        "* **drums_2bar_nade_full**:  The output is a multi-label \"pianoroll\" with 61 classes. A single-layer bidirectional LSTM encoder with 512 nodes in each direction, a 2-layer LSTM-NADE decoder with 512 nodes in each layer and 61-dimensional NADE with 128 hidden units, and a Z with 256 dimensions. During training it was given 0 free bits and has a fixed beta value of 0.2. It was trained with scheduled sampling with an inverse sigmoid schedule and a rate of 1000. After 300k steps, the final accuracy is 0.90 and KL divergence is 116 bits."
      ]
    },
    {
      "cell_type": "code",
      "metadata": {
        "id": "0x8YTRDwv8Gk",
        "colab_type": "code",
        "cellView": "both",
        "colab": {}
      },
      "source": [
        "#@title Load Pretrained Models\n",
        "\n",
        "drums_models = {}\n",
        "# One-hot encoded.\n",
        "drums_config = configs.CONFIG_MAP['cat-drums_2bar_small']\n",
        "drums_models['drums_2bar_oh_lokl'] = TrainedModel(drums_config, batch_size=4, checkpoint_dir_or_path='/content/checkpoints/drums_2bar_small.lokl.ckpt')\n",
        "drums_models['drums_2bar_oh_hikl'] = TrainedModel(drums_config, batch_size=4, checkpoint_dir_or_path='/content/checkpoints/drums_2bar_small.hikl.ckpt')\n",
        "\n",
        "# Multi-label NADE.\n",
        "drums_nade_reduced_config = configs.CONFIG_MAP['nade-drums_2bar_reduced']\n",
        "drums_models['drums_2bar_nade_reduced'] = TrainedModel(drums_nade_reduced_config, batch_size=4, checkpoint_dir_or_path='/content/checkpoints/drums_2bar_nade.reduced.ckpt')\n",
        "drums_nade_full_config = configs.CONFIG_MAP['nade-drums_2bar_full']\n",
        "drums_models['drums_2bar_nade_full'] = TrainedModel(drums_nade_full_config, batch_size=4, checkpoint_dir_or_path='/content/checkpoints/drums_2bar_nade.full.ckpt')\n"
      ],
      "execution_count": 0,
      "outputs": []
    },
    {
      "cell_type": "markdown",
      "metadata": {
        "id": "lEJptw-V4CEJ",
        "colab_type": "text"
      },
      "source": [
        "## Generate Samples"
      ]
    },
    {
      "cell_type": "code",
      "metadata": {
        "id": "zRUlAshMpDnR",
        "colab_type": "code",
        "cellView": "both",
        "outputId": "fe72c8a5-4ff7-4e34-8064-685ecbb4cbf3",
        "colab": {
          "base_uri": "https://localhost:8080/",
          "height": 249
        }
      },
      "source": [
        "#@title Generate 4 samples from the prior of one of the models listed above.\n",
        "drums_sample_model = \"drums_2bar_oh_lokl\" #@param [\"drums_2bar_oh_lokl\", \"drums_2bar_oh_hikl\", \"drums_2bar_nade_reduced\", \"drums_2bar_nade_full\"]\n",
        "temperature = 0.5 #@param {type:\"slider\", min:0.1, max:1.5, step:0.1}\n",
        "drums_samples = drums_models[drums_sample_model].sample(n=4, length=32, temperature=temperature)\n",
        "for ns in drums_samples:\n",
        "  play(ns)"
      ],
      "execution_count": 0,
      "outputs": [
        {
          "output_type": "display_data",
          "data": {
            "text/plain": [
              "<IPython.core.display.HTML object>"
            ],
            "text/html": [
              "<div id=\"id_1\"> </div>"
            ]
          },
          "metadata": {
            "tags": []
          }
        },
        {
          "output_type": "display_data",
          "data": {
            "text/plain": [
              "<IPython.core.display.HTML object>"
            ],
            "text/html": [
              "<div id=\"id_2\"> </div>"
            ]
          },
          "metadata": {
            "tags": []
          }
        },
        {
          "output_type": "display_data",
          "data": {
            "text/plain": [
              "<IPython.core.display.HTML object>"
            ],
            "text/html": [
              "<div id=\"id_3\"> </div>"
            ]
          },
          "metadata": {
            "tags": []
          }
        },
        {
          "output_type": "display_data",
          "data": {
            "text/plain": [
              "<IPython.core.display.HTML object>"
            ],
            "text/html": [
              "<div id=\"id_4\"> </div>"
            ]
          },
          "metadata": {
            "tags": []
          }
        }
      ]
    },
    {
      "cell_type": "code",
      "metadata": {
        "id": "OSwhxkru5mB6",
        "colab_type": "code",
        "cellView": "form",
        "colab": {}
      },
      "source": [
        "#@title Optionally download generated MIDI samples.\n",
        "for i, ns in enumerate(drums_samples):\n",
        "  download(ns, '%s_sample_%d.mid' % (drums_sample_model, i))"
      ],
      "execution_count": 0,
      "outputs": []
    },
    {
      "cell_type": "markdown",
      "metadata": {
        "id": "RTsrpipz4cFc",
        "colab_type": "text"
      },
      "source": [
        "## Generate Interpolations"
      ]
    },
    {
      "cell_type": "code",
      "metadata": {
        "id": "7cnZfjdGwwZg",
        "colab_type": "code",
        "cellView": "both",
        "colab": {}
      },
      "source": [
        "#@title Option 1: Use example MIDI files for interpolation endpoints.\n",
        "input_drums_midi_data = [\n",
        "    tf.gfile.Open(fn).read()\n",
        "    for fn in sorted(tf.gfile.Glob('/content/midi/drums_2bar*.mid'))]"
      ],
      "execution_count": 0,
      "outputs": []
    },
    {
      "cell_type": "code",
      "metadata": {
        "id": "yjfyjWPtb8fV",
        "colab_type": "code",
        "cellView": "form",
        "colab": {}
      },
      "source": [
        "#@title Option 2: upload your own MIDI files to use for interpolation endpoints instead of those provided.\n",
        "input_drums_midi_data = files.upload().values() or input_drums_midi_data"
      ],
      "execution_count": 0,
      "outputs": []
    },
    {
      "cell_type": "code",
      "metadata": {
        "id": "zqCJFtHYb-7A",
        "colab_type": "code",
        "cellView": "form",
        "colab": {}
      },
      "source": [
        "#@title Extract drums from MIDI files. This will extract all unique 2-bar drum beats using a sliding window with a stride of 1 bar.\n",
        "drums_input_seqs = [mm.midi_to_sequence_proto(m) for m in input_drums_midi_data]\n",
        "extracted_beats = []\n",
        "for ns in drums_input_seqs:\n",
        "  extracted_beats.extend(drums_nade_full_config.data_converter.to_notesequences(\n",
        "      drums_nade_full_config.data_converter.to_tensors(ns)[1]))\n",
        "for i, ns in enumerate(extracted_beats):\n",
        "  print \"Beat\", i\n",
        "  play(ns)"
      ],
      "execution_count": 0,
      "outputs": []
    },
    {
      "cell_type": "code",
      "metadata": {
        "id": "MeAboOS1xDgE",
        "colab_type": "code",
        "cellView": "both",
        "colab": {}
      },
      "source": [
        "#@title Interpolate between 2 beats, selected from those in the previous cell.\n",
        "drums_interp_model = \"drums_2bar_oh_hikl\" #@param [\"drums_2bar_oh_lokl\", \"drums_2bar_oh_hikl\", \"drums_2bar_nade_reduced\", \"drums_2bar_nade_full\"]\n",
        "start_beat = 0 #@param {type:\"integer\"}\n",
        "end_beat = 1 #@param {type:\"integer\"}\n",
        "start_beat = extracted_beats[start_beat]\n",
        "end_beat = extracted_beats[end_beat]\n",
        "\n",
        "temperature = 0.5 #@param {type:\"slider\", min:0.1, max:1.5, step:0.1}\n",
        "num_steps = 13 #@param {type:\"integer\"}\n",
        "\n",
        "drums_interp = interpolate(drums_models[drums_interp_model], start_beat, end_beat, num_steps=num_steps, temperature=temperature)"
      ],
      "execution_count": 0,
      "outputs": []
    },
    {
      "cell_type": "code",
      "metadata": {
        "id": "nkKoQwFEcxpi",
        "colab_type": "code",
        "cellView": "form",
        "colab": {}
      },
      "source": [
        "#@title Optionally download interpolation MIDI file.\n",
        "download(drums_interp, '%s_interp.mid' % drums_interp_model)"
      ],
      "execution_count": 0,
      "outputs": []
    },
    {
      "cell_type": "code",
      "metadata": {
        "id": "-e-srgiZTyNV",
        "colab_type": "code",
        "colab": {}
      },
      "source": [
        "class MyTrainedModel(TrainedModel):\n",
        "  def my_sample(self, n=None, length=None, temperature=1.0, same_z=False,\n",
        "             same_z_value=None,\n",
        "             c_input=None):\n",
        "    \n",
        "    \"\"\"Generates random samples from the model.\n",
        "    Args:\n",
        "      n: The number of samples to return. A full batch will be returned if not\n",
        "        specified.\n",
        "      length: The maximum length of a sample in decoder iterations. Required\n",
        "        if end tokens are not being used.\n",
        "      temperature: The softmax temperature to use (if applicable).\n",
        "      same_z: Whether to use the same latent vector for all samples in the\n",
        "        batch (if applicable).\n",
        "      c_input: A sequence of control inputs to use for all samples (if\n",
        "        applicable).\n",
        "    Returns:\n",
        "      A list of samples as NoteSequence objects.\n",
        "    Raises:\n",
        "      ValueError: If `length` is not specified and an end token is not being\n",
        "        used.\n",
        "    \"\"\"\n",
        "    batch_size = self._config.hparams.batch_size\n",
        "    n = n or batch_size\n",
        "    z_size = self._config.hparams.z_size\n",
        "    \n",
        "    print('z_size', z_size)\n",
        "\n",
        "    if not length and self._config.data_converter.end_token is None:\n",
        "      raise ValueError(\n",
        "          'A length must be specified when the end token is not used.')\n",
        "    length = length or tf.int32.max\n",
        "\n",
        "    feed_dict = {\n",
        "        self._temperature: temperature,\n",
        "        self._max_length: length\n",
        "    }\n",
        "\n",
        "    if self._z_input is not None and same_z:\n",
        "      z = same_z_value\n",
        "      z = np.tile(z, (batch_size, 1))\n",
        "      feed_dict[self._z_input] = z\n",
        "\n",
        "    if self._c_input is not None:\n",
        "      feed_dict[self._c_input] = c_input\n",
        "\n",
        "    outputs = []\n",
        "    for _ in range(int(np.ceil(n / batch_size))):\n",
        "      if self._z_input is not None and not same_z:\n",
        "        feed_dict[self._z_input] = (\n",
        "            np.random.randn(batch_size, z_size).astype(np.float32))\n",
        "      outputs.append(self._sess.run(self._outputs, feed_dict))\n",
        "    samples = np.vstack(outputs)[:n]\n",
        "    if self._c_input is not None:\n",
        "      return self._config.data_converter.to_items(\n",
        "          samples, np.tile(np.expand_dims(c_input, 0), [batch_size, 1, 1]))\n",
        "    else:\n",
        "      return self._config.data_converter.to_items(samples)\n"
      ],
      "execution_count": 0,
      "outputs": []
    },
    {
      "cell_type": "markdown",
      "metadata": {
        "id": "moLOftFqBS-0",
        "colab_type": "text"
      },
      "source": [
        "# 2-Bar Melody Model\n",
        "\n",
        "The pre-trained model consists of a single-layer bidirectional LSTM encoder with 2048 nodes in each direction, a 3-layer LSTM decoder with 2048 nodes in each layer, and Z with 512 dimensions. The model was given 0 free bits, and had its beta valued annealed at an exponential rate of 0.99999 from 0 to 0.43 over 200k steps. It was trained with scheduled sampling with an inverse sigmoid schedule and a rate of 1000. The final accuracy is 0.95 and KL divergence is 58 bits."
      ]
    },
    {
      "cell_type": "code",
      "metadata": {
        "id": "2XCPjwd6BVtm",
        "colab_type": "code",
        "cellView": "both",
        "outputId": "200d5d62-2dc0-4091-8577-7739c52efdb6",
        "colab": {
          "base_uri": "https://localhost:8080/",
          "height": 241
        }
      },
      "source": [
        "#@title Load the pre-trained model.\n",
        "mel_2bar_config = configs.CONFIG_MAP['cat-mel_2bar_big']\n",
        "mel_2bar = MyTrainedModel(mel_2bar_config, batch_size=4, checkpoint_dir_or_path='/content/checkpoints/mel_2bar_big.ckpt')"
      ],
      "execution_count": 0,
      "outputs": [
        {
          "output_type": "stream",
          "text": [
            "INFO:tensorflow:Building MusicVAE model with BidirectionalLstmEncoder, CategoricalLstmDecoder, and hparams:\n",
            "{'grad_clip': 1.0, 'z_size': 512, 'decay_rate': 0.9999, 'dec_rnn_size': [2048, 2048, 2048], 'free_bits': 0, 'use_cudnn': False, 'residual_encoder': False, 'grad_norm_clip_to_zero': 10000, 'learning_rate': 0.001, 'conditional': True, 'batch_size': 4, 'min_learning_rate': 1e-05, 'sampling_schedule': 'inverse_sigmoid', 'max_seq_len': 32, 'residual_decoder': False, 'beta_rate': 0.99999, 'enc_rnn_size': [2048], 'sampling_rate': 1000, 'max_beta': 0.5, 'dropout_keep_prob': 1.0, 'clip_mode': 'global_norm'}\n",
            "INFO:tensorflow:\n",
            "Encoder Cells (bidirectional):\n",
            "  units: [2048]\n",
            "\n",
            "INFO:tensorflow:\n",
            "Decoder Cells:\n",
            "  units: [2048, 2048, 2048]\n",
            "\n",
            "WARNING:tensorflow:Setting non-training sampling schedule from inverse_sigmoid:1000.000000 to constant:1.0.\n",
            "INFO:tensorflow:Restoring parameters from /content/checkpoints/mel_2bar_big.ckpt\n"
          ],
          "name": "stdout"
        }
      ]
    },
    {
      "cell_type": "code",
      "metadata": {
        "id": "l0oyu7GEW79h",
        "colab_type": "code",
        "colab": {}
      },
      "source": [
        "z_size=512\n",
        "same_z_value = np.random.randn(z_size).astype(np.float32)"
      ],
      "execution_count": 0,
      "outputs": []
    },
    {
      "cell_type": "markdown",
      "metadata": {
        "id": "wM6gOe6X3hWB",
        "colab_type": "text"
      },
      "source": [
        "## Generate Samples"
      ]
    },
    {
      "cell_type": "code",
      "metadata": {
        "id": "RwXUA74cNkh0",
        "colab_type": "code",
        "cellView": "both",
        "outputId": "401c27c7-e24d-4bc1-bd18-8f76a5386bb0",
        "colab": {
          "base_uri": "https://localhost:8080/",
          "height": 266
        }
      },
      "source": [
        "#@title Generate 4 samples from the prior.\n",
        "temperature = 0.5 #@param {type:\"slider\", min:0.1, max:1.5, step:0.1}\n",
        "mel_2_samples = mel_2bar.my_sample(n=4, length=32, temperature=temperature, same_z=True, same_z_value=same_z_value)\n",
        "for ns in mel_2_samples:\n",
        "  play(ns)"
      ],
      "execution_count": 0,
      "outputs": [
        {
          "output_type": "stream",
          "text": [
            "('z_size', 512)\n"
          ],
          "name": "stdout"
        },
        {
          "output_type": "display_data",
          "data": {
            "text/plain": [
              "<IPython.core.display.HTML object>"
            ],
            "text/html": [
              "<div id=\"id_21\"> </div>"
            ]
          },
          "metadata": {
            "tags": []
          }
        },
        {
          "output_type": "display_data",
          "data": {
            "text/plain": [
              "<IPython.core.display.HTML object>"
            ],
            "text/html": [
              "<div id=\"id_22\"> </div>"
            ]
          },
          "metadata": {
            "tags": []
          }
        },
        {
          "output_type": "display_data",
          "data": {
            "text/plain": [
              "<IPython.core.display.HTML object>"
            ],
            "text/html": [
              "<div id=\"id_23\"> </div>"
            ]
          },
          "metadata": {
            "tags": []
          }
        },
        {
          "output_type": "display_data",
          "data": {
            "text/plain": [
              "<IPython.core.display.HTML object>"
            ],
            "text/html": [
              "<div id=\"id_24\"> </div>"
            ]
          },
          "metadata": {
            "tags": []
          }
        }
      ]
    },
    {
      "cell_type": "code",
      "metadata": {
        "id": "MLg9dQ2D1Xpu",
        "colab_type": "code",
        "cellView": "form",
        "colab": {}
      },
      "source": [
        "#@title Optionally download samples.\n",
        "for i, ns in enumerate(mel_2_samples):\n",
        "  download(ns, 'mel_2bar_sample_%d.mid' % i)"
      ],
      "execution_count": 0,
      "outputs": []
    },
    {
      "cell_type": "code",
      "metadata": {
        "id": "cPqaavls7bFy",
        "colab_type": "code",
        "outputId": "cc8df775-27e5-48b5-b9fb-f8e3ffe3107b",
        "colab": {
          "base_uri": "https://localhost:8080/",
          "height": 249
        }
      },
      "source": [
        "_, mu, _ = mel_2bar.encode(mel_2_samples)\n",
        "seqs = mel_2bar.decode(mu, length=32, temperature=temperature)\n",
        "for ns in seqs:\n",
        "  play(ns)"
      ],
      "execution_count": 0,
      "outputs": [
        {
          "output_type": "display_data",
          "data": {
            "text/plain": [
              "<IPython.core.display.HTML object>"
            ],
            "text/html": [
              "<div id=\"id_41\"> </div>"
            ]
          },
          "metadata": {
            "tags": []
          }
        },
        {
          "output_type": "display_data",
          "data": {
            "text/plain": [
              "<IPython.core.display.HTML object>"
            ],
            "text/html": [
              "<div id=\"id_42\"> </div>"
            ]
          },
          "metadata": {
            "tags": []
          }
        },
        {
          "output_type": "display_data",
          "data": {
            "text/plain": [
              "<IPython.core.display.HTML object>"
            ],
            "text/html": [
              "<div id=\"id_43\"> </div>"
            ]
          },
          "metadata": {
            "tags": []
          }
        },
        {
          "output_type": "display_data",
          "data": {
            "text/plain": [
              "<IPython.core.display.HTML object>"
            ],
            "text/html": [
              "<div id=\"id_44\"> </div>"
            ]
          },
          "metadata": {
            "tags": []
          }
        }
      ]
    },
    {
      "cell_type": "markdown",
      "metadata": {
        "id": "8YxEHHI937Oa",
        "colab_type": "text"
      },
      "source": [
        "## Generate Interpolations"
      ]
    },
    {
      "cell_type": "code",
      "metadata": {
        "id": "H5wCWLMPLfYz",
        "colab_type": "code",
        "cellView": "both",
        "colab": {}
      },
      "source": [
        "#@title Option 1: Use example MIDI files for interpolation endpoints.\n",
        "input_mel_midi_data = [\n",
        "    tf.gfile.Open(fn).read()\n",
        "    for fn in sorted(tf.gfile.Glob('/content/midi/mel_2bar*.mid'))]"
      ],
      "execution_count": 0,
      "outputs": []
    },
    {
      "cell_type": "code",
      "metadata": {
        "id": "Hu5SeYFnNEe5",
        "colab_type": "code",
        "cellView": "form",
        "colab": {}
      },
      "source": [
        "#@title Option 2: Upload your own MIDI files to use for interpolation endpoints instead of those provided.\n",
        "input_mel_midi_data = files.upload().values() or input_mel_midi_data"
      ],
      "execution_count": 0,
      "outputs": []
    },
    {
      "cell_type": "code",
      "metadata": {
        "id": "Xy4vizNUH8GJ",
        "colab_type": "code",
        "cellView": "both",
        "outputId": "04f1c0af-0b9c-4763-fd53-7331be87a25c",
        "colab": {
          "base_uri": "https://localhost:8080/",
          "height": 167
        }
      },
      "source": [
        "#@title Extract melodies from MIDI files. This will extract all unique 2-bar melodies using a sliding window with a stride of 1 bar.\n",
        "mel_input_seqs = [mm.midi_to_sequence_proto(m) for m in input_mel_midi_data]\n",
        "extracted_mels = []\n",
        "for ns in mel_input_seqs:\n",
        "  extracted_mels.extend(\n",
        "      mel_2bar_config.data_converter.to_notesequences(\n",
        "          mel_2bar_config.data_converter.to_tensors(ns)[1]))\n",
        "for i, ns in enumerate(extracted_mels):\n",
        "  print \"Melody\", i\n",
        "  play(ns)"
      ],
      "execution_count": 0,
      "outputs": [
        {
          "output_type": "stream",
          "text": [
            "Melody 0\n"
          ],
          "name": "stdout"
        },
        {
          "output_type": "display_data",
          "data": {
            "text/plain": [
              "<IPython.core.display.HTML object>"
            ],
            "text/html": [
              "<div id=\"id_9\"> </div>"
            ]
          },
          "metadata": {
            "tags": []
          }
        },
        {
          "output_type": "stream",
          "text": [
            "Melody 1\n"
          ],
          "name": "stdout"
        },
        {
          "output_type": "display_data",
          "data": {
            "text/plain": [
              "<IPython.core.display.HTML object>"
            ],
            "text/html": [
              "<div id=\"id_10\"> </div>"
            ]
          },
          "metadata": {
            "tags": []
          }
        }
      ]
    },
    {
      "cell_type": "code",
      "metadata": {
        "id": "8J4vloU3Pgtz",
        "colab_type": "code",
        "cellView": "both",
        "outputId": "ae297096-67ba-42ff-a828-93e145176058",
        "colab": {
          "base_uri": "https://localhost:8080/",
          "height": 547
        }
      },
      "source": [
        "#@title Interpolate between 2 melodies, selected from those in the previous cell.\n",
        "start_melody = 0 #@param {type:\"integer\"}\n",
        "end_melody = 1 #@param {type:\"integer\"}\n",
        "start_mel = extracted_mels[start_melody]\n",
        "end_mel = extracted_mels[end_melody]\n",
        "\n",
        "temperature = 0.5 #@param {type:\"slider\", min:0.1, max:1.5, step:0.1}\n",
        "num_steps = 13 #@param {type:\"integer\"}\n",
        "\n",
        "mel_2bar_interp = interpolate(mel_2bar, start_mel, end_mel, num_steps=num_steps, temperature=temperature)"
      ],
      "execution_count": 0,
      "outputs": [
        {
          "output_type": "stream",
          "text": [
            "Start Seq Reconstruction\n"
          ],
          "name": "stdout"
        },
        {
          "output_type": "display_data",
          "data": {
            "text/plain": [
              "<IPython.core.display.HTML object>"
            ],
            "text/html": [
              "<div id=\"id_11\"> </div>"
            ]
          },
          "metadata": {
            "tags": []
          }
        },
        {
          "output_type": "stream",
          "text": [
            "End Seq Reconstruction\n"
          ],
          "name": "stdout"
        },
        {
          "output_type": "display_data",
          "data": {
            "text/plain": [
              "<IPython.core.display.HTML object>"
            ],
            "text/html": [
              "<div id=\"id_12\"> </div>"
            ]
          },
          "metadata": {
            "tags": []
          }
        },
        {
          "output_type": "stream",
          "text": [
            "Mean Sequence\n"
          ],
          "name": "stdout"
        },
        {
          "output_type": "display_data",
          "data": {
            "text/plain": [
              "<IPython.core.display.HTML object>"
            ],
            "text/html": [
              "<div id=\"id_13\"> </div>"
            ]
          },
          "metadata": {
            "tags": []
          }
        },
        {
          "output_type": "stream",
          "text": [
            "Start -> End Interpolation\n"
          ],
          "name": "stdout"
        },
        {
          "output_type": "display_data",
          "data": {
            "text/plain": [
              "<IPython.core.display.HTML object>"
            ],
            "text/html": [
              "<div id=\"id_14\"> </div>"
            ]
          },
          "metadata": {
            "tags": []
          }
        },
        {
          "output_type": "display_data",
          "data": {
            "text/html": [
              "\n",
              "    <div class=\"bk-root\">\n",
              "        <a href=\"https://bokeh.pydata.org\" target=\"_blank\" class=\"bk-logo bk-logo-small bk-logo-notebook\"></a>\n",
              "        <span id=\"1050\">Loading BokehJS ...</span>\n",
              "    </div>"
            ]
          },
          "metadata": {
            "tags": []
          }
        },
        {
          "output_type": "display_data",
          "data": {
            "application/javascript": [
              "\n",
              "(function(root) {\n",
              "  function now() {\n",
              "    return new Date();\n",
              "  }\n",
              "\n",
              "  var force = true;\n",
              "\n",
              "  if (typeof (root._bokeh_onload_callbacks) === \"undefined\" || force === true) {\n",
              "    root._bokeh_onload_callbacks = [];\n",
              "    root._bokeh_is_loading = undefined;\n",
              "  }\n",
              "\n",
              "  var JS_MIME_TYPE = 'application/javascript';\n",
              "  var HTML_MIME_TYPE = 'text/html';\n",
              "  var EXEC_MIME_TYPE = 'application/vnd.bokehjs_exec.v0+json';\n",
              "  var CLASS_NAME = 'output_bokeh rendered_html';\n",
              "\n",
              "  /**\n",
              "   * Render data to the DOM node\n",
              "   */\n",
              "  function render(props, node) {\n",
              "    var script = document.createElement(\"script\");\n",
              "    node.appendChild(script);\n",
              "  }\n",
              "\n",
              "  /**\n",
              "   * Handle when an output is cleared or removed\n",
              "   */\n",
              "  function handleClearOutput(event, handle) {\n",
              "    var cell = handle.cell;\n",
              "\n",
              "    var id = cell.output_area._bokeh_element_id;\n",
              "    var server_id = cell.output_area._bokeh_server_id;\n",
              "    // Clean up Bokeh references\n",
              "    if (id != null && id in Bokeh.index) {\n",
              "      Bokeh.index[id].model.document.clear();\n",
              "      delete Bokeh.index[id];\n",
              "    }\n",
              "\n",
              "    if (server_id !== undefined) {\n",
              "      // Clean up Bokeh references\n",
              "      var cmd = \"from bokeh.io.state import curstate; print(curstate().uuid_to_server['\" + server_id + \"'].get_sessions()[0].document.roots[0]._id)\";\n",
              "      cell.notebook.kernel.execute(cmd, {\n",
              "        iopub: {\n",
              "          output: function(msg) {\n",
              "            var id = msg.content.text.trim();\n",
              "            if (id in Bokeh.index) {\n",
              "              Bokeh.index[id].model.document.clear();\n",
              "              delete Bokeh.index[id];\n",
              "            }\n",
              "          }\n",
              "        }\n",
              "      });\n",
              "      // Destroy server and session\n",
              "      var cmd = \"import bokeh.io.notebook as ion; ion.destroy_server('\" + server_id + \"')\";\n",
              "      cell.notebook.kernel.execute(cmd);\n",
              "    }\n",
              "  }\n",
              "\n",
              "  /**\n",
              "   * Handle when a new output is added\n",
              "   */\n",
              "  function handleAddOutput(event, handle) {\n",
              "    var output_area = handle.output_area;\n",
              "    var output = handle.output;\n",
              "\n",
              "    // limit handleAddOutput to display_data with EXEC_MIME_TYPE content only\n",
              "    if ((output.output_type != \"display_data\") || (!output.data.hasOwnProperty(EXEC_MIME_TYPE))) {\n",
              "      return\n",
              "    }\n",
              "\n",
              "    var toinsert = output_area.element.find(\".\" + CLASS_NAME.split(' ')[0]);\n",
              "\n",
              "    if (output.metadata[EXEC_MIME_TYPE][\"id\"] !== undefined) {\n",
              "      toinsert[toinsert.length - 1].firstChild.textContent = output.data[JS_MIME_TYPE];\n",
              "      // store reference to embed id on output_area\n",
              "      output_area._bokeh_element_id = output.metadata[EXEC_MIME_TYPE][\"id\"];\n",
              "    }\n",
              "    if (output.metadata[EXEC_MIME_TYPE][\"server_id\"] !== undefined) {\n",
              "      var bk_div = document.createElement(\"div\");\n",
              "      bk_div.innerHTML = output.data[HTML_MIME_TYPE];\n",
              "      var script_attrs = bk_div.children[0].attributes;\n",
              "      for (var i = 0; i < script_attrs.length; i++) {\n",
              "        toinsert[toinsert.length - 1].firstChild.setAttribute(script_attrs[i].name, script_attrs[i].value);\n",
              "      }\n",
              "      // store reference to server id on output_area\n",
              "      output_area._bokeh_server_id = output.metadata[EXEC_MIME_TYPE][\"server_id\"];\n",
              "    }\n",
              "  }\n",
              "\n",
              "  function register_renderer(events, OutputArea) {\n",
              "\n",
              "    function append_mime(data, metadata, element) {\n",
              "      // create a DOM node to render to\n",
              "      var toinsert = this.create_output_subarea(\n",
              "        metadata,\n",
              "        CLASS_NAME,\n",
              "        EXEC_MIME_TYPE\n",
              "      );\n",
              "      this.keyboard_manager.register_events(toinsert);\n",
              "      // Render to node\n",
              "      var props = {data: data, metadata: metadata[EXEC_MIME_TYPE]};\n",
              "      render(props, toinsert[toinsert.length - 1]);\n",
              "      element.append(toinsert);\n",
              "      return toinsert\n",
              "    }\n",
              "\n",
              "    /* Handle when an output is cleared or removed */\n",
              "    events.on('clear_output.CodeCell', handleClearOutput);\n",
              "    events.on('delete.Cell', handleClearOutput);\n",
              "\n",
              "    /* Handle when a new output is added */\n",
              "    events.on('output_added.OutputArea', handleAddOutput);\n",
              "\n",
              "    /**\n",
              "     * Register the mime type and append_mime function with output_area\n",
              "     */\n",
              "    OutputArea.prototype.register_mime_type(EXEC_MIME_TYPE, append_mime, {\n",
              "      /* Is output safe? */\n",
              "      safe: true,\n",
              "      /* Index of renderer in `output_area.display_order` */\n",
              "      index: 0\n",
              "    });\n",
              "  }\n",
              "\n",
              "  // register the mime type if in Jupyter Notebook environment and previously unregistered\n",
              "  if (root.Jupyter !== undefined) {\n",
              "    var events = require('base/js/events');\n",
              "    var OutputArea = require('notebook/js/outputarea').OutputArea;\n",
              "\n",
              "    if (OutputArea.prototype.mime_types().indexOf(EXEC_MIME_TYPE) == -1) {\n",
              "      register_renderer(events, OutputArea);\n",
              "    }\n",
              "  }\n",
              "\n",
              "  \n",
              "  if (typeof (root._bokeh_timeout) === \"undefined\" || force === true) {\n",
              "    root._bokeh_timeout = Date.now() + 5000;\n",
              "    root._bokeh_failed_load = false;\n",
              "  }\n",
              "\n",
              "  var NB_LOAD_WARNING = {'data': {'text/html':\n",
              "     \"<div style='background-color: #fdd'>\\n\"+\n",
              "     \"<p>\\n\"+\n",
              "     \"BokehJS does not appear to have successfully loaded. If loading BokehJS from CDN, this \\n\"+\n",
              "     \"may be due to a slow or bad network connection. Possible fixes:\\n\"+\n",
              "     \"</p>\\n\"+\n",
              "     \"<ul>\\n\"+\n",
              "     \"<li>re-rerun `output_notebook()` to attempt to load from CDN again, or</li>\\n\"+\n",
              "     \"<li>use INLINE resources instead, as so:</li>\\n\"+\n",
              "     \"</ul>\\n\"+\n",
              "     \"<code>\\n\"+\n",
              "     \"from bokeh.resources import INLINE\\n\"+\n",
              "     \"output_notebook(resources=INLINE)\\n\"+\n",
              "     \"</code>\\n\"+\n",
              "     \"</div>\"}};\n",
              "\n",
              "  function display_loaded() {\n",
              "    var el = document.getElementById(\"1050\");\n",
              "    if (el != null) {\n",
              "      el.textContent = \"BokehJS is loading...\";\n",
              "    }\n",
              "    if (root.Bokeh !== undefined) {\n",
              "      if (el != null) {\n",
              "        el.textContent = \"BokehJS \" + root.Bokeh.version + \" successfully loaded.\";\n",
              "      }\n",
              "    } else if (Date.now() < root._bokeh_timeout) {\n",
              "      setTimeout(display_loaded, 100)\n",
              "    }\n",
              "  }\n",
              "\n",
              "\n",
              "  function run_callbacks() {\n",
              "    try {\n",
              "      root._bokeh_onload_callbacks.forEach(function(callback) { callback() });\n",
              "    }\n",
              "    finally {\n",
              "      delete root._bokeh_onload_callbacks\n",
              "    }\n",
              "    console.info(\"Bokeh: all callbacks have finished\");\n",
              "  }\n",
              "\n",
              "  function load_libs(js_urls, callback) {\n",
              "    root._bokeh_onload_callbacks.push(callback);\n",
              "    if (root._bokeh_is_loading > 0) {\n",
              "      console.log(\"Bokeh: BokehJS is being loaded, scheduling callback at\", now());\n",
              "      return null;\n",
              "    }\n",
              "    if (js_urls == null || js_urls.length === 0) {\n",
              "      run_callbacks();\n",
              "      return null;\n",
              "    }\n",
              "    console.log(\"Bokeh: BokehJS not loaded, scheduling load and callback at\", now());\n",
              "    root._bokeh_is_loading = js_urls.length;\n",
              "    for (var i = 0; i < js_urls.length; i++) {\n",
              "      var url = js_urls[i];\n",
              "      var s = document.createElement('script');\n",
              "      s.src = url;\n",
              "      s.async = false;\n",
              "      s.onreadystatechange = s.onload = function() {\n",
              "        root._bokeh_is_loading--;\n",
              "        if (root._bokeh_is_loading === 0) {\n",
              "          console.log(\"Bokeh: all BokehJS libraries loaded\");\n",
              "          run_callbacks()\n",
              "        }\n",
              "      };\n",
              "      s.onerror = function() {\n",
              "        console.warn(\"failed to load library \" + url);\n",
              "      };\n",
              "      console.log(\"Bokeh: injecting script tag for BokehJS library: \", url);\n",
              "      document.getElementsByTagName(\"head\")[0].appendChild(s);\n",
              "    }\n",
              "  };var element = document.getElementById(\"1050\");\n",
              "  if (element == null) {\n",
              "    console.log(\"Bokeh: ERROR: autoload.js configured with elementid '1050' but no matching script tag was found. \")\n",
              "    return false;\n",
              "  }\n",
              "\n",
              "  var js_urls = [\"https://cdn.pydata.org/bokeh/release/bokeh-1.0.4.min.js\", \"https://cdn.pydata.org/bokeh/release/bokeh-widgets-1.0.4.min.js\", \"https://cdn.pydata.org/bokeh/release/bokeh-tables-1.0.4.min.js\", \"https://cdn.pydata.org/bokeh/release/bokeh-gl-1.0.4.min.js\"];\n",
              "\n",
              "  var inline_js = [\n",
              "    function(Bokeh) {\n",
              "      Bokeh.set_log_level(\"info\");\n",
              "    },\n",
              "    \n",
              "    function(Bokeh) {\n",
              "      \n",
              "    },\n",
              "    function(Bokeh) {\n",
              "      console.log(\"Bokeh: injecting CSS: https://cdn.pydata.org/bokeh/release/bokeh-1.0.4.min.css\");\n",
              "      Bokeh.embed.inject_css(\"https://cdn.pydata.org/bokeh/release/bokeh-1.0.4.min.css\");\n",
              "      console.log(\"Bokeh: injecting CSS: https://cdn.pydata.org/bokeh/release/bokeh-widgets-1.0.4.min.css\");\n",
              "      Bokeh.embed.inject_css(\"https://cdn.pydata.org/bokeh/release/bokeh-widgets-1.0.4.min.css\");\n",
              "      console.log(\"Bokeh: injecting CSS: https://cdn.pydata.org/bokeh/release/bokeh-tables-1.0.4.min.css\");\n",
              "      Bokeh.embed.inject_css(\"https://cdn.pydata.org/bokeh/release/bokeh-tables-1.0.4.min.css\");\n",
              "    }\n",
              "  ];\n",
              "\n",
              "  function run_inline_js() {\n",
              "    \n",
              "    if ((root.Bokeh !== undefined) || (force === true)) {\n",
              "      for (var i = 0; i < inline_js.length; i++) {\n",
              "        inline_js[i].call(root, root.Bokeh);\n",
              "      }if (force === true) {\n",
              "        display_loaded();\n",
              "      }} else if (Date.now() < root._bokeh_timeout) {\n",
              "      setTimeout(run_inline_js, 100);\n",
              "    } else if (!root._bokeh_failed_load) {\n",
              "      console.log(\"Bokeh: BokehJS failed to load within specified timeout.\");\n",
              "      root._bokeh_failed_load = true;\n",
              "    } else if (force !== true) {\n",
              "      var cell = $(document.getElementById(\"1050\")).parents('.cell').data().cell;\n",
              "      cell.output_area.append_execute_result(NB_LOAD_WARNING)\n",
              "    }\n",
              "\n",
              "  }\n",
              "\n",
              "  if (root._bokeh_is_loading === 0) {\n",
              "    console.log(\"Bokeh: BokehJS loaded, going straight to plotting\");\n",
              "    run_inline_js();\n",
              "  } else {\n",
              "    load_libs(js_urls, function() {\n",
              "      console.log(\"Bokeh: BokehJS plotting callback run at\", now());\n",
              "      run_inline_js();\n",
              "    });\n",
              "  }\n",
              "}(window));"
            ],
            "application/vnd.bokehjs_load.v0+json": "\n(function(root) {\n  function now() {\n    return new Date();\n  }\n\n  var force = true;\n\n  if (typeof (root._bokeh_onload_callbacks) === \"undefined\" || force === true) {\n    root._bokeh_onload_callbacks = [];\n    root._bokeh_is_loading = undefined;\n  }\n\n  \n\n  \n  if (typeof (root._bokeh_timeout) === \"undefined\" || force === true) {\n    root._bokeh_timeout = Date.now() + 5000;\n    root._bokeh_failed_load = false;\n  }\n\n  var NB_LOAD_WARNING = {'data': {'text/html':\n     \"<div style='background-color: #fdd'>\\n\"+\n     \"<p>\\n\"+\n     \"BokehJS does not appear to have successfully loaded. If loading BokehJS from CDN, this \\n\"+\n     \"may be due to a slow or bad network connection. Possible fixes:\\n\"+\n     \"</p>\\n\"+\n     \"<ul>\\n\"+\n     \"<li>re-rerun `output_notebook()` to attempt to load from CDN again, or</li>\\n\"+\n     \"<li>use INLINE resources instead, as so:</li>\\n\"+\n     \"</ul>\\n\"+\n     \"<code>\\n\"+\n     \"from bokeh.resources import INLINE\\n\"+\n     \"output_notebook(resources=INLINE)\\n\"+\n     \"</code>\\n\"+\n     \"</div>\"}};\n\n  function display_loaded() {\n    var el = document.getElementById(\"1050\");\n    if (el != null) {\n      el.textContent = \"BokehJS is loading...\";\n    }\n    if (root.Bokeh !== undefined) {\n      if (el != null) {\n        el.textContent = \"BokehJS \" + root.Bokeh.version + \" successfully loaded.\";\n      }\n    } else if (Date.now() < root._bokeh_timeout) {\n      setTimeout(display_loaded, 100)\n    }\n  }\n\n\n  function run_callbacks() {\n    try {\n      root._bokeh_onload_callbacks.forEach(function(callback) { callback() });\n    }\n    finally {\n      delete root._bokeh_onload_callbacks\n    }\n    console.info(\"Bokeh: all callbacks have finished\");\n  }\n\n  function load_libs(js_urls, callback) {\n    root._bokeh_onload_callbacks.push(callback);\n    if (root._bokeh_is_loading > 0) {\n      console.log(\"Bokeh: BokehJS is being loaded, scheduling callback at\", now());\n      return null;\n    }\n    if (js_urls == null || js_urls.length === 0) {\n      run_callbacks();\n      return null;\n    }\n    console.log(\"Bokeh: BokehJS not loaded, scheduling load and callback at\", now());\n    root._bokeh_is_loading = js_urls.length;\n    for (var i = 0; i < js_urls.length; i++) {\n      var url = js_urls[i];\n      var s = document.createElement('script');\n      s.src = url;\n      s.async = false;\n      s.onreadystatechange = s.onload = function() {\n        root._bokeh_is_loading--;\n        if (root._bokeh_is_loading === 0) {\n          console.log(\"Bokeh: all BokehJS libraries loaded\");\n          run_callbacks()\n        }\n      };\n      s.onerror = function() {\n        console.warn(\"failed to load library \" + url);\n      };\n      console.log(\"Bokeh: injecting script tag for BokehJS library: \", url);\n      document.getElementsByTagName(\"head\")[0].appendChild(s);\n    }\n  };var element = document.getElementById(\"1050\");\n  if (element == null) {\n    console.log(\"Bokeh: ERROR: autoload.js configured with elementid '1050' but no matching script tag was found. \")\n    return false;\n  }\n\n  var js_urls = [\"https://cdn.pydata.org/bokeh/release/bokeh-1.0.4.min.js\", \"https://cdn.pydata.org/bokeh/release/bokeh-widgets-1.0.4.min.js\", \"https://cdn.pydata.org/bokeh/release/bokeh-tables-1.0.4.min.js\", \"https://cdn.pydata.org/bokeh/release/bokeh-gl-1.0.4.min.js\"];\n\n  var inline_js = [\n    function(Bokeh) {\n      Bokeh.set_log_level(\"info\");\n    },\n    \n    function(Bokeh) {\n      \n    },\n    function(Bokeh) {\n      console.log(\"Bokeh: injecting CSS: https://cdn.pydata.org/bokeh/release/bokeh-1.0.4.min.css\");\n      Bokeh.embed.inject_css(\"https://cdn.pydata.org/bokeh/release/bokeh-1.0.4.min.css\");\n      console.log(\"Bokeh: injecting CSS: https://cdn.pydata.org/bokeh/release/bokeh-widgets-1.0.4.min.css\");\n      Bokeh.embed.inject_css(\"https://cdn.pydata.org/bokeh/release/bokeh-widgets-1.0.4.min.css\");\n      console.log(\"Bokeh: injecting CSS: https://cdn.pydata.org/bokeh/release/bokeh-tables-1.0.4.min.css\");\n      Bokeh.embed.inject_css(\"https://cdn.pydata.org/bokeh/release/bokeh-tables-1.0.4.min.css\");\n    }\n  ];\n\n  function run_inline_js() {\n    \n    if ((root.Bokeh !== undefined) || (force === true)) {\n      for (var i = 0; i < inline_js.length; i++) {\n        inline_js[i].call(root, root.Bokeh);\n      }if (force === true) {\n        display_loaded();\n      }} else if (Date.now() < root._bokeh_timeout) {\n      setTimeout(run_inline_js, 100);\n    } else if (!root._bokeh_failed_load) {\n      console.log(\"Bokeh: BokehJS failed to load within specified timeout.\");\n      root._bokeh_failed_load = true;\n    } else if (force !== true) {\n      var cell = $(document.getElementById(\"1050\")).parents('.cell').data().cell;\n      cell.output_area.append_execute_result(NB_LOAD_WARNING)\n    }\n\n  }\n\n  if (root._bokeh_is_loading === 0) {\n    console.log(\"Bokeh: BokehJS loaded, going straight to plotting\");\n    run_inline_js();\n  } else {\n    load_libs(js_urls, function() {\n      console.log(\"Bokeh: BokehJS plotting callback run at\", now());\n      run_inline_js();\n    });\n  }\n}(window));"
          },
          "metadata": {
            "tags": []
          }
        },
        {
          "output_type": "display_data",
          "data": {
            "text/html": [
              "\n",
              "\n",
              "\n",
              "\n",
              "\n",
              "\n",
              "  <div class=\"bk-root\" id=\"7ad703fd-a997-4c0e-a2a8-dbc5c0a0cb1f\" data-root-id=\"1001\"></div>\n"
            ]
          },
          "metadata": {
            "tags": []
          }
        },
        {
          "output_type": "display_data",
          "data": {
            "application/javascript": [
              "(function(root) {\n",
              "  function embed_document(root) {\n",
              "    \n",
              "  var docs_json = {\"07186ba6-7a25-41f0-b78c-03ace1875124\":{\"roots\":{\"references\":[{\"attributes\":{},\"id\":\"1045\",\"type\":\"BasicTickFormatter\"},{\"attributes\":{\"bottom\":{\"field\":\"bottom\"},\"fill_alpha\":{\"field\":\"fill_alpha\"},\"fill_color\":{\"value\":\"#d53e4f\"},\"left\":{\"field\":\"start_time\"},\"right\":{\"field\":\"end_time\"},\"top\":{\"field\":\"top\"}},\"id\":\"1038\",\"type\":\"Quad\"},{\"attributes\":{\"bottom\":{\"field\":\"bottom\"},\"fill_alpha\":{\"value\":0.1},\"fill_color\":{\"value\":\"#1f77b4\"},\"left\":{\"field\":\"start_time\"},\"line_alpha\":{\"value\":0.1},\"line_color\":{\"value\":\"#1f77b4\"},\"right\":{\"field\":\"end_time\"},\"top\":{\"field\":\"top\"}},\"id\":\"1039\",\"type\":\"Quad\"},{\"attributes\":{\"dimension\":1,\"plot\":{\"id\":\"1001\",\"subtype\":\"Figure\",\"type\":\"Plot\"},\"ticker\":{\"id\":\"1035\",\"type\":\"SingleIntervalTicker\"}},\"id\":\"1019\",\"type\":\"Grid\"},{\"attributes\":{\"plot\":{\"id\":\"1001\",\"subtype\":\"Figure\",\"type\":\"Plot\"},\"ticker\":{\"id\":\"1011\",\"type\":\"BasicTicker\"}},\"id\":\"1014\",\"type\":\"Grid\"},{\"attributes\":{\"interval\":12},\"id\":\"1033\",\"type\":\"SingleIntervalTicker\"},{\"attributes\":{\"callback\":null,\"data\":{\"bottom\":{\"__ndarray__\":\"zczMzMxMTUDNzMzMzExNQM3MzMzMTE1AzczMzMxMTEDNzMzMzExMQM3MzMzMTExAzczMzMxMTUDNzMzMzExNQM3MzMzMTE1AzczMzMxMTEDNzMzMzExNQM3MzMzMTE1AzczMzMxMTUDNzMzMzMxPQM3MzMzMzE9AzczMzMzMT0DNzMzMzExNQM3MzMzMTE1AzczMzMxMTUDNzMzMzMxPQM3MzMzMTE9AzczMzMzMT0DNzMzMzMxOQM3MzMzMzE9AzczMzMzMTkBmZmZmZiZQQM3MzMzMzE9AZmZmZmYmUEDNzMzMzMxPQM3MzMzMzE5AZmZmZmYmUEDNzMzMzMxPQM3MzMzMzE5AZmZmZmYmUEBmZmZmZiZQQGZmZmZmplBAZmZmZmYmUEBmZmZmZqZQQGZmZmZmplBAzczMzMxMT0DNzMzMzMxPQGZmZmZmplBAzczMzMzMT0BmZmZmZiZQQGZmZmZmJlBAZmZmZmYmUEBmZmZmZqZQQGZmZmZmJlBAZmZmZmYmUUBmZmZmZuZQQGZmZmZmplBAZmZmZmYmUEBmZmZmZiZQQGZmZmZmJlBAzczMzMzMT0DNzMzMzMxPQGZmZmZmJlBAZmZmZmamUEBmZmZmZiZQQGZmZmZmJlBAZmZmZmamUEBmZmZmZuZRQGZmZmZm5lBAZmZmZmamUEBmZmZmZiZQQGZmZmZmplBAZmZmZmZmUUBmZmZmZqZQQGZmZmZmJlBAZmZmZmYmUEBmZmZmZqZQQGZmZmZmplBAZmZmZmYmUEBmZmZmZiZQQGZmZmZm5lBAZmZmZmZmUUBmZmZmZuZRQGZmZmZm5lBAZmZmZmYmUEBmZmZmZqZQQGZmZmZmZlFAZmZmZmamUEBmZmZmZiZQQGZmZmZmJlBAZmZmZmamUEDNzMzMzExPQGZmZmZmJlBAZmZmZmYmUEBmZmZmZuZQQGZmZmZmZlFAZmZmZmbmUUBmZmZmZuZQQGZmZmZmplBAZmZmZmbmUEBmZmZmZmZRQGZmZmZmplBAZmZmZmYmUEBmZmZmZiZQQGZmZmZmJlBAZmZmZmamUEBmZmZmZuZQQGZmZmZmJlBAZmZmZmYmUEBmZmZmZiZQQGZmZmZmZlFAZmZmZmZmUUBmZmZmZmZRQGZmZmZmplBAZmZmZmYmUEBmZmZmZiZQQGZmZmZm5lFAZmZmZmYmUEBmZmZmZmZRQGZmZmZmJlBAZmZmZmYmUEDNzMzMzExPQGZmZmZmJlBAZmZmZmbmUEBmZmZmZqZQQGZmZmZmJlBAZmZmZmYmUEBmZmZmZuZRQGZmZmZmZlFAZmZmZmZmUUBmZmZmZiZQQGZmZmZmJlBAZmZmZmYmUEBmZmZmZuZRQGZmZmZmJlBAZmZmZmbmUEBmZmZmZmZRQGZmZmZmJlBAZmZmZmYmUEBmZmZmZiZSQGZmZmZmZlFAZmZmZmbmUEBmZmZmZuZRQGZmZmZmJlBAZmZmZmYmUEBmZmZmZuZRQGZmZmZmZlFAZmZmZmbmUEBmZmZmZmZRQGZmZmZmJlBAZmZmZmYmUEBmZmZmZuZRQGZmZmZmZlFAZmZmZmbmUEBmZmZmZmZRQGZmZmZmJlBAZmZmZmZmUUBmZmZmZuZRQGZmZmZmZlFAZmZmZmbmUEA=\",\"dtype\":\"float64\",\"shape\":[154]},\"duration\":{\"__ndarray__\":\"AAAAAAAA5D8AAAAAAADQPwAAAAAAAOw/AAAAAAAA5D8AAAAAAADQPwAAAAAAAOw/AAAAAAAA5D8AAAAAAADQPwAAAAAAAOw/AAAAAAAA5D8AAAAAAADQPwAAAAAAAOw/AAAAAAAA5D8AAAAAAADQPwAAAAAAAOw/AAAAAAAA5D8AAAAAAADQPwAAAAAAAOw/AAAAAAAA5D8AAAAAAADQPwAAAAAAAOw/AAAAAAAA4D8AAAAAAADQPwAAAAAAAOA/AAAAAAAA2D8AAAAAAADkPwAAAAAAANA/AAAAAAAA8D8AAAAAAADgPwAAAAAAAMA/AAAAAAAAwD8AAAAAAADQPwAAAAAAAOQ/AAAAAAAAwD8AAAAAAADkPwAAAAAAANA/AAAAAAAA0D8AAAAAAADgPwAAAAAAAMA/AAAAAAAA2D8AAAAAAADAPwAAAAAAAMA/AAAAAAAA4D8AAAAAAADYPwAAAAAAAMA/AAAAAAAA6D8AAAAAAADQPwAAAAAAANg/AAAAAAAA2D8AAAAAAADAPwAAAAAAANg/AAAAAAAAwD8AAAAAAADAPwAAAAAAAMA/AAAAAAAA0D8AAAAAAADAPwAAAAAAANg/AAAAAAAAwD8AAAAAAADgPwAAAAAAANA/AAAAAAAA0D8AAAAAAADYPwAAAAAAAMA/AAAAAAAA0D8AAAAAAADAPwAAAAAAANA/AAAAAAAAwD8AAAAAAADAPwAAAAAAANA/AAAAAAAA0D8AAAAAAADYPwAAAAAAAMA/AAAAAAAA4D8AAAAAAADYPwAAAAAAAMA/AAAAAAAA2D8AAAAAAADAPwAAAAAAANA/AAAAAAAAwD8AAAAAAADAPwAAAAAAAMA/AAAAAAAAwD8AAAAAAADAPwAAAAAAAMA/AAAAAAAA2D8AAAAAAADAPwAAAAAAAOA/AAAAAAAA2D8AAAAAAADAPwAAAAAAANA/AAAAAAAAwD8AAAAAAADQPwAAAAAAAMA/AAAAAAAAwD8AAAAAAADAPwAAAAAAAMA/AAAAAAAA0D8AAAAAAADAPwAAAAAAAMA/AAAAAAAA2D8AAAAAAADAPwAAAAAAAPQ/AAAAAAAAwD8AAAAAAADAPwAAAAAAANA/AAAAAAAAwD8AAAAAAADAPwAAAAAAAMA/AAAAAAAAwD8AAAAAAADAPwAAAAAAAMA/AAAAAAAAwD8AAAAAAADAPwAAAAAAAMA/AAAAAAAAwD8AAAAAAADAPwAAAAAAANA/AAAAAAAAwD8AAAAAAAD0PwAAAAAAAMA/AAAAAAAAwD8AAAAAAADQPwAAAAAAAMA/AAAAAAAAwD8AAAAAAADAPwAAAAAAAMA/AAAAAAAAwD8AAAAAAADAPwAAAAAAAMA/AAAAAAAAwD8AAAAAAADAPwAAAAAAAMA/AAAAAAAAwD8AAAAAAADAPwAAAAAAAMA/AAAAAAAAwD8AAAAAAADQPwAAAAAAAMA/AAAAAAAAwD8AAAAAAADQPwAAAAAAAMA/AAAAAAAAwD8AAAAAAADAPwAAAAAAAMA/AAAAAAAAwD8AAAAAAADAPwAAAAAAAMA/AAAAAAAAwD8AAAAAAADAPwAAAAAAAMA/AAAAAAAAwD8AAAAAAADAPwAAAAAAAMA/AAAAAAAAwD8=\",\"dtype\":\"float64\",\"shape\":[154]},\"end_time\":{\"__ndarray__\":\"AAAAAAAA5D8AAAAAAADwPwAAAAAAAP4/AAAAAAAABUAAAAAAAAAIQAAAAAAAAA9AAAAAAACAEkAAAAAAAAAUQAAAAAAAgBdAAAAAAACAGkAAAAAAAAAcQAAAAAAAgB9AAAAAAABAIUAAAAAAAAAiQAAAAAAAwCNAAAAAAABAJUAAAAAAAAAmQAAAAAAAwCdAAAAAAABAKUAAAAAAAAAqQAAAAAAAwCtAAAAAAAAALUAAAAAAAAAuQAAAAAAAAC9AAAAAAADAL0AAAAAAAKAwQAAAAAAAADFAAAAAAAAAMkAAAAAAAIAyQAAAAAAAoDJAAAAAAADgMkAAAAAAAEAzQAAAAAAA4DNAAAAAAAAANEAAAAAAAKA0QAAAAAAAADVAAAAAAABANUAAAAAAAOA1QAAAAAAAADZAAAAAAABgNkAAAAAAAKA2QAAAAAAA4DZAAAAAAACAN0AAAAAAAOA3QAAAAAAAADhAAAAAAADAOEAAAAAAAAA5QAAAAAAAYDlAAAAAAADAOUAAAAAAAAA6QAAAAAAAYDpAAAAAAACAOkAAAAAAAKA6QAAAAAAAADtAAAAAAABAO0AAAAAAAIA7QAAAAAAA4DtAAAAAAAAAPEAAAAAAAIA8QAAAAAAAAD1AAAAAAACAPUAAAAAAAOA9QAAAAAAAAD5AAAAAAABAPkAAAAAAAIA+QAAAAAAAwD5AAAAAAADgPkAAAAAAAAA/QAAAAAAAQD9AAAAAAACAP0AAAAAAAOA/QAAAAAAAAEBAAAAAAABAQEAAAAAAALBAQAAAAAAAwEBAAAAAAADwQEAAAAAAAABBQAAAAAAAIEFAAAAAAABAQUAAAAAAAFBBQAAAAAAAcEFAAAAAAACAQUAAAAAAAJBBQAAAAAAAsEFAAAAAAADwQUAAAAAAAABCQAAAAAAAQEJAAAAAAACwQkAAAAAAAMBCQAAAAAAA4EJAAAAAAAAAQ0AAAAAAACBDQAAAAAAAQENAAAAAAABQQ0AAAAAAAHBDQAAAAAAAgENAAAAAAACgQ0AAAAAAALBDQAAAAAAAwENAAAAAAADwQ0AAAAAAAABEQAAAAAAAoERAAAAAAACwREAAAAAAAMBEQAAAAAAA4ERAAAAAAADwREAAAAAAAABFQAAAAAAAEEVAAAAAAAAwRUAAAAAAAEBFQAAAAAAAUEVAAAAAAABwRUAAAAAAAIBFQAAAAAAAkEVAAAAAAACwRUAAAAAAAMBFQAAAAAAA4EVAAAAAAAAARkAAAAAAAKBGQAAAAAAAsEZAAAAAAADARkAAAAAAAOBGQAAAAAAA8EZAAAAAAAAAR0AAAAAAABBHQAAAAAAAMEdAAAAAAABAR0AAAAAAAFBHQAAAAAAAcEdAAAAAAACAR0AAAAAAAJBHQAAAAAAAsEdAAAAAAADAR0AAAAAAANBHQAAAAAAA8EdAAAAAAAAASEAAAAAAACBIQAAAAAAAsEhAAAAAAADASEAAAAAAAOBIQAAAAAAA8EhAAAAAAAAASUAAAAAAABBJQAAAAAAAMElAAAAAAABASUAAAAAAAFBJQAAAAAAAcElAAAAAAACASUAAAAAAAJBJQAAAAAAAsElAAAAAAADASUAAAAAAANBJQAAAAAAA8ElAAAAAAAAASkA=\",\"dtype\":\"float64\",\"shape\":[154]},\"fill_alpha\":{\"__ndarray__\":\"AAAAAAAA8D8AAAAAAADwPwAAAAAAAPA/AAAAAAAA8D8AAAAAAADwPwAAAAAAAPA/AAAAAAAA8D8AAAAAAADwPwAAAAAAAPA/AAAAAAAA8D8AAAAAAADwPwAAAAAAAPA/AAAAAAAA8D8AAAAAAADwPwAAAAAAAPA/AAAAAAAA8D8AAAAAAADwPwAAAAAAAPA/AAAAAAAA8D8AAAAAAADwPwAAAAAAAPA/AAAAAAAA8D8AAAAAAADwPwAAAAAAAPA/AAAAAAAA8D8AAAAAAADwPwAAAAAAAPA/AAAAAAAA8D8AAAAAAADwPwAAAAAAAPA/AAAAAAAA8D8AAAAAAADwPwAAAAAAAPA/AAAAAAAA8D8AAAAAAADwPwAAAAAAAPA/AAAAAAAA8D8AAAAAAADwPwAAAAAAAPA/AAAAAAAA8D8AAAAAAADwPwAAAAAAAPA/AAAAAAAA8D8AAAAAAADwPwAAAAAAAPA/AAAAAAAA8D8AAAAAAADwPwAAAAAAAPA/AAAAAAAA8D8AAAAAAADwPwAAAAAAAPA/AAAAAAAA8D8AAAAAAADwPwAAAAAAAPA/AAAAAAAA8D8AAAAAAADwPwAAAAAAAPA/AAAAAAAA8D8AAAAAAADwPwAAAAAAAPA/AAAAAAAA8D8AAAAAAADwPwAAAAAAAPA/AAAAAAAA8D8AAAAAAADwPwAAAAAAAPA/AAAAAAAA8D8AAAAAAADwPwAAAAAAAPA/AAAAAAAA8D8AAAAAAADwPwAAAAAAAPA/AAAAAAAA8D8AAAAAAADwPwAAAAAAAPA/AAAAAAAA8D8AAAAAAADwPwAAAAAAAPA/AAAAAAAA8D8AAAAAAADwPwAAAAAAAPA/AAAAAAAA8D8AAAAAAADwPwAAAAAAAPA/AAAAAAAA8D8AAAAAAADwPwAAAAAAAPA/AAAAAAAA8D8AAAAAAADwPwAAAAAAAPA/AAAAAAAA8D8AAAAAAADwPwAAAAAAAPA/AAAAAAAA8D8AAAAAAADwPwAAAAAAAPA/AAAAAAAA8D8AAAAAAADwPwAAAAAAAPA/AAAAAAAA8D8AAAAAAADwPwAAAAAAAPA/AAAAAAAA8D8AAAAAAADwPwAAAAAAAPA/AAAAAAAA8D8AAAAAAADwPwAAAAAAAPA/AAAAAAAA8D8AAAAAAADwPwAAAAAAAPA/AAAAAAAA8D8AAAAAAADwPwAAAAAAAPA/AAAAAAAA8D8AAAAAAADwPwAAAAAAAPA/AAAAAAAA8D8AAAAAAADwPwAAAAAAAPA/AAAAAAAA8D8AAAAAAADwPwAAAAAAAPA/AAAAAAAA8D8AAAAAAADwPwAAAAAAAPA/AAAAAAAA8D8AAAAAAADwPwAAAAAAAPA/AAAAAAAA8D8AAAAAAADwPwAAAAAAAPA/AAAAAAAA8D8AAAAAAADwPwAAAAAAAPA/AAAAAAAA8D8AAAAAAADwPwAAAAAAAPA/AAAAAAAA8D8AAAAAAADwPwAAAAAAAPA/AAAAAAAA8D8AAAAAAADwPwAAAAAAAPA/AAAAAAAA8D8AAAAAAADwPwAAAAAAAPA/AAAAAAAA8D8AAAAAAADwPwAAAAAAAPA/AAAAAAAA8D8AAAAAAADwPwAAAAAAAPA/AAAAAAAA8D8=\",\"dtype\":\"float64\",\"shape\":[154]},\"index\":[0,1,2,3,4,5,6,7,8,9,10,11,12,13,14,15,16,17,18,19,20,21,22,23,24,25,26,27,28,29,30,31,32,33,34,35,36,37,38,39,40,41,42,43,44,45,46,47,48,49,50,51,52,53,54,55,56,57,58,59,60,61,62,63,64,65,66,67,68,69,70,71,72,73,74,75,76,77,78,79,80,81,82,83,84,85,86,87,88,89,90,91,92,93,94,95,96,97,98,99,100,101,102,103,104,105,106,107,108,109,110,111,112,113,114,115,116,117,118,119,120,121,122,123,124,125,126,127,128,129,130,131,132,133,134,135,136,137,138,139,140,141,142,143,144,145,146,147,148,149,150,151,152,153],\"instrument\":[0,0,0,0,0,0,0,0,0,0,0,0,0,0,0,0,0,0,0,0,0,0,0,0,0,0,0,0,0,0,0,0,0,0,0,0,0,0,0,0,0,0,0,0,0,0,0,0,0,0,0,0,0,0,0,0,0,0,0,0,0,0,0,0,0,0,0,0,0,0,0,0,0,0,0,0,0,0,0,0,0,0,0,0,0,0,0,0,0,0,0,0,0,0,0,0,0,0,0,0,0,0,0,0,0,0,0,0,0,0,0,0,0,0,0,0,0,0,0,0,0,0,0,0,0,0,0,0,0,0,0,0,0,0,0,0,0,0,0,0,0,0,0,0,0,0,0,0,0,0,0,0,0,0],\"pitch\":[59,59,59,57,57,57,59,59,59,57,59,59,59,64,64,64,59,59,59,64,63,64,62,64,62,65,64,65,64,62,65,64,62,65,65,67,65,67,67,63,64,67,64,65,65,65,67,65,69,68,67,65,65,65,64,64,65,67,65,65,67,72,68,67,65,67,70,67,65,65,67,67,65,65,68,70,72,68,65,67,70,67,65,65,67,63,65,65,68,70,72,68,67,68,70,67,65,65,65,67,68,65,65,65,70,70,70,67,65,65,72,65,70,65,65,63,65,68,67,65,65,72,70,70,65,65,65,72,65,68,70,65,65,73,70,68,72,65,65,72,70,68,70,65,65,72,70,68,70,65,70,72,70,68],\"program\":[0,0,0,0,0,0,0,0,0,0,0,0,0,0,0,0,0,0,0,0,0,0,0,0,0,0,0,0,0,0,0,0,0,0,0,0,0,0,0,0,0,0,0,0,0,0,0,0,0,0,0,0,0,0,0,0,0,0,0,0,0,0,0,0,0,0,0,0,0,0,0,0,0,0,0,0,0,0,0,0,0,0,0,0,0,0,0,0,0,0,0,0,0,0,0,0,0,0,0,0,0,0,0,0,0,0,0,0,0,0,0,0,0,0,0,0,0,0,0,0,0,0,0,0,0,0,0,0,0,0,0,0,0,0,0,0,0,0,0,0,0,0,0,0,0,0,0,0,0,0,0,0,0,0],\"start_time\":{\"__ndarray__\":\"AAAAAAAAAAAAAAAAAADoPwAAAAAAAPA/AAAAAAAAAEAAAAAAAAAGQAAAAAAAAAhAAAAAAAAAEEAAAAAAAAATQAAAAAAAABRAAAAAAAAAGEAAAAAAAAAbQAAAAAAAABxAAAAAAAAAIEAAAAAAAIAhQAAAAAAAACJAAAAAAAAAJEAAAAAAAIAlQAAAAAAAACZAAAAAAAAAKEAAAAAAAIApQAAAAAAAACpAAAAAAAAALEAAAAAAAIAtQAAAAAAAAC5AAAAAAAAAL0AAAAAAAAAwQAAAAAAAwDBAAAAAAAAAMUAAAAAAAAAyQAAAAAAAgDJAAAAAAADAMkAAAAAAAAAzQAAAAAAAQDNAAAAAAADgM0AAAAAAAAA0QAAAAAAAwDRAAAAAAAAANUAAAAAAAGA1QAAAAAAA4DVAAAAAAAAANkAAAAAAAIA2QAAAAAAAwDZAAAAAAAAAN0AAAAAAAIA3QAAAAAAA4DdAAAAAAAAAOEAAAAAAAMA4QAAAAAAAADlAAAAAAABgOUAAAAAAAOA5QAAAAAAAADpAAAAAAABgOkAAAAAAAIA6QAAAAAAA4DpAAAAAAAAAO0AAAAAAAGA7QAAAAAAAgDtAAAAAAADgO0AAAAAAAAA8QAAAAAAAwDxAAAAAAABAPUAAAAAAAIA9QAAAAAAA4D1AAAAAAAAAPkAAAAAAAGA+QAAAAAAAgD5AAAAAAADAPkAAAAAAAOA+QAAAAAAAAD9AAAAAAABAP0AAAAAAAIA/QAAAAAAA4D9AAAAAAAAAQEAAAAAAAIBAQAAAAAAAsEBAAAAAAADAQEAAAAAAAPBAQAAAAAAAAEFAAAAAAAAwQUAAAAAAAEBBQAAAAAAAYEFAAAAAAABwQUAAAAAAAIBBQAAAAAAAoEFAAAAAAADAQUAAAAAAAPBBQAAAAAAAAEJAAAAAAACAQkAAAAAAALBCQAAAAAAAwEJAAAAAAADwQkAAAAAAAABDQAAAAAAAMENAAAAAAABAQ0AAAAAAAGBDQAAAAAAAcENAAAAAAACAQ0AAAAAAAKBDQAAAAAAAsENAAAAAAADAQ0AAAAAAAPBDQAAAAAAAAERAAAAAAACgREAAAAAAALBEQAAAAAAAwERAAAAAAADgREAAAAAAAPBEQAAAAAAAAEVAAAAAAAAgRUAAAAAAADBFQAAAAAAAQEVAAAAAAABgRUAAAAAAAHBFQAAAAAAAgEVAAAAAAACgRUAAAAAAALBFQAAAAAAAwEVAAAAAAADwRUAAAAAAAABGQAAAAAAAoEZAAAAAAACwRkAAAAAAAMBGQAAAAAAA4EZAAAAAAADwRkAAAAAAAABHQAAAAAAAIEdAAAAAAAAwR0AAAAAAAEBHQAAAAAAAYEdAAAAAAABwR0AAAAAAAIBHQAAAAAAAoEdAAAAAAACwR0AAAAAAAMBHQAAAAAAA4EdAAAAAAADwR0AAAAAAAABIQAAAAAAAoEhAAAAAAACwSEAAAAAAAMBIQAAAAAAA4EhAAAAAAADwSEAAAAAAAABJQAAAAAAAIElAAAAAAAAwSUAAAAAAAEBJQAAAAAAAYElAAAAAAABwSUAAAAAAAIBJQAAAAAAAoElAAAAAAACwSUAAAAAAAMBJQAAAAAAA4ElAAAAAAADwSUA=\",\"dtype\":\"float64\",\"shape\":[154]},\"top\":{\"__ndarray__\":\"MzMzMzOzTUAzMzMzM7NNQDMzMzMzs01AMzMzMzOzTEAzMzMzM7NMQDMzMzMzs0xAMzMzMzOzTUAzMzMzM7NNQDMzMzMzs01AMzMzMzOzTEAzMzMzM7NNQDMzMzMzs01AMzMzMzOzTUCamZmZmRlQQJqZmZmZGVBAmpmZmZkZUEAzMzMzM7NNQDMzMzMzs01AMzMzMzOzTUCamZmZmRlQQDMzMzMzs09AmpmZmZkZUEAzMzMzMzNPQJqZmZmZGVBAMzMzMzMzT0CamZmZmVlQQJqZmZmZGVBAmpmZmZlZUECamZmZmRlQQDMzMzMzM09AmpmZmZlZUECamZmZmRlQQDMzMzMzM09AmpmZmZlZUECamZmZmVlQQJqZmZmZ2VBAmpmZmZlZUECamZmZmdlQQJqZmZmZ2VBAMzMzMzOzT0CamZmZmRlQQJqZmZmZ2VBAmpmZmZkZUECamZmZmVlQQJqZmZmZWVBAmpmZmZlZUECamZmZmdlQQJqZmZmZWVBAmpmZmZlZUUCamZmZmRlRQJqZmZmZ2VBAmpmZmZlZUECamZmZmVlQQJqZmZmZWVBAmpmZmZkZUECamZmZmRlQQJqZmZmZWVBAmpmZmZnZUECamZmZmVlQQJqZmZmZWVBAmpmZmZnZUECamZmZmRlSQJqZmZmZGVFAmpmZmZnZUECamZmZmVlQQJqZmZmZ2VBAmpmZmZmZUUCamZmZmdlQQJqZmZmZWVBAmpmZmZlZUECamZmZmdlQQJqZmZmZ2VBAmpmZmZlZUECamZmZmVlQQJqZmZmZGVFAmpmZmZmZUUCamZmZmRlSQJqZmZmZGVFAmpmZmZlZUECamZmZmdlQQJqZmZmZmVFAmpmZmZnZUECamZmZmVlQQJqZmZmZWVBAmpmZmZnZUEAzMzMzM7NPQJqZmZmZWVBAmpmZmZlZUECamZmZmRlRQJqZmZmZmVFAmpmZmZkZUkCamZmZmRlRQJqZmZmZ2VBAmpmZmZkZUUCamZmZmZlRQJqZmZmZ2VBAmpmZmZlZUECamZmZmVlQQJqZmZmZWVBAmpmZmZnZUECamZmZmRlRQJqZmZmZWVBAmpmZmZlZUECamZmZmVlQQJqZmZmZmVFAmpmZmZmZUUCamZmZmZlRQJqZmZmZ2VBAmpmZmZlZUECamZmZmVlQQJqZmZmZGVJAmpmZmZlZUECamZmZmZlRQJqZmZmZWVBAmpmZmZlZUEAzMzMzM7NPQJqZmZmZWVBAmpmZmZkZUUCamZmZmdlQQJqZmZmZWVBAmpmZmZlZUECamZmZmRlSQJqZmZmZmVFAmpmZmZmZUUCamZmZmVlQQJqZmZmZWVBAmpmZmZlZUECamZmZmRlSQJqZmZmZWVBAmpmZmZkZUUCamZmZmZlRQJqZmZmZWVBAmpmZmZlZUECamZmZmVlSQJqZmZmZmVFAmpmZmZkZUUCamZmZmRlSQJqZmZmZWVBAmpmZmZlZUECamZmZmRlSQJqZmZmZmVFAmpmZmZkZUUCamZmZmZlRQJqZmZmZWVBAmpmZmZlZUECamZmZmRlSQJqZmZmZmVFAmpmZmZkZUUCamZmZmZlRQJqZmZmZWVBAmpmZmZmZUUCamZmZmRlSQJqZmZmZmVFAmpmZmZkZUUA=\",\"dtype\":\"float64\",\"shape\":[154]},\"velocity\":[80,80,80,80,80,80,80,80,80,80,80,80,80,80,80,80,80,80,80,80,80,80,80,80,80,80,80,80,80,80,80,80,80,80,80,80,80,80,80,80,80,80,80,80,80,80,80,80,80,80,80,80,80,80,80,80,80,80,80,80,80,80,80,80,80,80,80,80,80,80,80,80,80,80,80,80,80,80,80,80,80,80,80,80,80,80,80,80,80,80,80,80,80,80,80,80,80,80,80,80,80,80,80,80,80,80,80,80,80,80,80,80,80,80,80,80,80,80,80,80,80,80,80,80,80,80,80,80,80,80,80,80,80,80,80,80,80,80,80,80,80,80,80,80,80,80,80,80,80,80,80,80,80,80]},\"selected\":{\"id\":\"1047\",\"type\":\"Selection\"},\"selection_policy\":{\"id\":\"1048\",\"type\":\"UnionRenderers\"}},\"id\":\"1036\",\"type\":\"ColumnDataSource\"},{\"attributes\":{},\"id\":\"1011\",\"type\":\"BasicTicker\"},{\"attributes\":{\"interval\":12},\"id\":\"1035\",\"type\":\"SingleIntervalTicker\"},{\"attributes\":{\"plot\":null,\"text\":\"\"},\"id\":\"1043\",\"type\":\"Title\"},{\"attributes\":{\"bottom_units\":\"screen\",\"fill_alpha\":{\"value\":0.5},\"fill_color\":{\"value\":\"lightgrey\"},\"left_units\":\"screen\",\"level\":\"overlay\",\"line_alpha\":{\"value\":1.0},\"line_color\":{\"value\":\"black\"},\"line_dash\":[4,4],\"line_width\":{\"value\":2},\"plot\":null,\"render_mode\":\"css\",\"right_units\":\"screen\",\"top_units\":\"screen\"},\"id\":\"1027\",\"type\":\"BoxAnnotation\"},{\"attributes\":{\"axis_label\":\"pitch (MIDI)\",\"formatter\":{\"id\":\"1046\",\"type\":\"BasicTickFormatter\"},\"plot\":{\"id\":\"1001\",\"subtype\":\"Figure\",\"type\":\"Plot\"},\"ticker\":{\"id\":\"1033\",\"type\":\"SingleIntervalTicker\"}},\"id\":\"1015\",\"type\":\"LinearAxis\"},{\"attributes\":{},\"id\":\"1021\",\"type\":\"PanTool\"},{\"attributes\":{\"callback\":null,\"tooltips\":[[\"velo\",\"@velocity\"],[\"program\",\"@program\"],[\"end_time\",\"@end_time\"],[\"pitch\",\"@pitch\"],[\"duration\",\"@duration\"],[\"velocity\",\"@velocity\"],[\"start_time\",\"@start_time\"],[\"fill_alpha\",\"@fill_alpha\"]]},\"id\":\"1020\",\"type\":\"HoverTool\"},{\"attributes\":{\"active_drag\":\"auto\",\"active_inspect\":\"auto\",\"active_multi\":null,\"active_scroll\":\"auto\",\"active_tap\":\"auto\",\"tools\":[{\"id\":\"1020\",\"type\":\"HoverTool\"},{\"id\":\"1021\",\"type\":\"PanTool\"},{\"id\":\"1022\",\"type\":\"BoxZoomTool\"},{\"id\":\"1023\",\"type\":\"ResetTool\"},{\"id\":\"1024\",\"type\":\"SaveTool\"}]},\"id\":\"1025\",\"type\":\"Toolbar\"},{\"attributes\":{},\"id\":\"1024\",\"type\":\"SaveTool\"},{\"attributes\":{\"source\":{\"id\":\"1036\",\"type\":\"ColumnDataSource\"}},\"id\":\"1041\",\"type\":\"CDSView\"},{\"attributes\":{\"data_source\":{\"id\":\"1036\",\"type\":\"ColumnDataSource\"},\"glyph\":{\"id\":\"1038\",\"type\":\"Quad\"},\"hover_glyph\":null,\"muted_glyph\":null,\"nonselection_glyph\":{\"id\":\"1039\",\"type\":\"Quad\"},\"selection_glyph\":null,\"view\":{\"id\":\"1041\",\"type\":\"CDSView\"}},\"id\":\"1040\",\"type\":\"GlyphRenderer\"},{\"attributes\":{},\"id\":\"1047\",\"type\":\"Selection\"},{\"attributes\":{},\"id\":\"1046\",\"type\":\"BasicTickFormatter\"},{\"attributes\":{},\"id\":\"1023\",\"type\":\"ResetTool\"},{\"attributes\":{\"overlay\":{\"id\":\"1027\",\"type\":\"BoxAnnotation\"}},\"id\":\"1022\",\"type\":\"BoxZoomTool\"},{\"attributes\":{\"axis_label\":\"time (sec)\",\"formatter\":{\"id\":\"1045\",\"type\":\"BasicTickFormatter\"},\"plot\":{\"id\":\"1001\",\"subtype\":\"Figure\",\"type\":\"Plot\"},\"ticker\":{\"id\":\"1011\",\"type\":\"BasicTicker\"}},\"id\":\"1010\",\"type\":\"LinearAxis\"},{\"attributes\":{},\"id\":\"1048\",\"type\":\"UnionRenderers\"},{\"attributes\":{},\"id\":\"1008\",\"type\":\"LinearScale\"},{\"attributes\":{},\"id\":\"1006\",\"type\":\"LinearScale\"},{\"attributes\":{\"callback\":null},\"id\":\"1004\",\"type\":\"DataRange1d\"},{\"attributes\":{\"callback\":null},\"id\":\"1002\",\"type\":\"DataRange1d\"},{\"attributes\":{\"below\":[{\"id\":\"1010\",\"type\":\"LinearAxis\"}],\"left\":[{\"id\":\"1015\",\"type\":\"LinearAxis\"}],\"plot_height\":200,\"plot_width\":500,\"renderers\":[{\"id\":\"1010\",\"type\":\"LinearAxis\"},{\"id\":\"1014\",\"type\":\"Grid\"},{\"id\":\"1015\",\"type\":\"LinearAxis\"},{\"id\":\"1019\",\"type\":\"Grid\"},{\"id\":\"1027\",\"type\":\"BoxAnnotation\"},{\"id\":\"1040\",\"type\":\"GlyphRenderer\"}],\"title\":{\"id\":\"1043\",\"type\":\"Title\"},\"toolbar\":{\"id\":\"1025\",\"type\":\"Toolbar\"},\"x_range\":{\"id\":\"1002\",\"type\":\"DataRange1d\"},\"x_scale\":{\"id\":\"1006\",\"type\":\"LinearScale\"},\"y_range\":{\"id\":\"1004\",\"type\":\"DataRange1d\"},\"y_scale\":{\"id\":\"1008\",\"type\":\"LinearScale\"}},\"id\":\"1001\",\"subtype\":\"Figure\",\"type\":\"Plot\"}],\"root_ids\":[\"1001\"]},\"title\":\"Bokeh Application\",\"version\":\"1.0.4\"}};\n",
              "  var render_items = [{\"docid\":\"07186ba6-7a25-41f0-b78c-03ace1875124\",\"roots\":{\"1001\":\"7ad703fd-a997-4c0e-a2a8-dbc5c0a0cb1f\"}}];\n",
              "  root.Bokeh.embed.embed_items_notebook(docs_json, render_items);\n",
              "\n",
              "  }\n",
              "  if (root.Bokeh !== undefined) {\n",
              "    embed_document(root);\n",
              "  } else {\n",
              "    var attempts = 0;\n",
              "    var timer = setInterval(function(root) {\n",
              "      if (root.Bokeh !== undefined) {\n",
              "        embed_document(root);\n",
              "        clearInterval(timer);\n",
              "      }\n",
              "      attempts++;\n",
              "      if (attempts > 100) {\n",
              "        console.log(\"Bokeh: ERROR: Unable to run BokehJS code because BokehJS library is missing\");\n",
              "        clearInterval(timer);\n",
              "      }\n",
              "    }, 10, root)\n",
              "  }\n",
              "})(window);"
            ],
            "application/vnd.bokehjs_exec.v0+json": ""
          },
          "metadata": {
            "tags": [],
            "application/vnd.bokehjs_exec.v0+json": {
              "id": "1001"
            }
          }
        }
      ]
    },
    {
      "cell_type": "code",
      "metadata": {
        "id": "hZVP4JRmTCvB",
        "colab_type": "code",
        "cellView": "form",
        "colab": {}
      },
      "source": [
        "#@title Optionally download interpolation MIDI file.\n",
        "download(mel_2bar_interp, 'mel_2bar_interp.mid')"
      ],
      "execution_count": 0,
      "outputs": []
    },
    {
      "cell_type": "markdown",
      "metadata": {
        "id": "mDKI2rmOk0Dv",
        "colab_type": "text"
      },
      "source": [
        "# 16-bar Melody Models\n",
        "\n",
        "The pre-trained hierarchical model consists of a 2-layer stacked bidirectional LSTM encoder with 2048 nodes in each direction for each layer, a 16-step 2-layer LSTM \"conductor\" decoder with 1024 nodes in each layer, a 2-layer LSTM core decoder with 1024 nodes in each layer, and a Z with 512 dimensions. It was given 256 free bits, and had a fixed beta value of 0.2. After 25k steps, the final accuracy is 0.90 and KL divergence is 277 bits."
      ]
    },
    {
      "cell_type": "code",
      "metadata": {
        "id": "9zcfdVjjk3Pp",
        "colab_type": "code",
        "cellView": "both",
        "outputId": "b0cace57-8f91-49bb-8c74-db2f8b2b873a",
        "colab": {
          "base_uri": "https://localhost:8080/",
          "height": 496
        }
      },
      "source": [
        "#@title Load the pre-trained models.\n",
        "mel_16bar_models = {}\n",
        "hierdec_mel_16bar_config = configs.CONFIG_MAP['hierdec-mel_16bar']\n",
        "mel_16bar_models['hierdec_mel_16bar'] = MyTrainedModel(hierdec_mel_16bar_config, batch_size=4, checkpoint_dir_or_path='/content/checkpoints/mel_16bar_hierdec.ckpt')\n",
        "\n",
        "flat_mel_16bar_config = configs.CONFIG_MAP['flat-mel_16bar']\n",
        "mel_16bar_models['baseline_flat_mel_16bar'] = MyTrainedModel(flat_mel_16bar_config, batch_size=4, checkpoint_dir_or_path='/content/checkpoints/mel_16bar_flat.ckpt')"
      ],
      "execution_count": 0,
      "outputs": [
        {
          "output_type": "stream",
          "text": [
            "INFO:tensorflow:Building MusicVAE model with BidirectionalLstmEncoder, HierarchicalLstmDecoder, and hparams:\n",
            "{'grad_clip': 1.0, 'z_size': 512, 'decay_rate': 0.9999, 'dec_rnn_size': [1024, 1024], 'free_bits': 256, 'use_cudnn': False, 'residual_encoder': False, 'grad_norm_clip_to_zero': 10000, 'learning_rate': 0.001, 'conditional': True, 'batch_size': 4, 'min_learning_rate': 1e-05, 'sampling_schedule': 'constant', 'max_seq_len': 256, 'residual_decoder': False, 'beta_rate': 0.0, 'enc_rnn_size': [2048, 2048], 'sampling_rate': 0.0, 'max_beta': 0.2, 'dropout_keep_prob': 1.0, 'clip_mode': 'global_norm'}\n",
            "INFO:tensorflow:\n",
            "Encoder Cells (bidirectional):\n",
            "  units: [2048, 2048]\n",
            "\n",
            "INFO:tensorflow:\n",
            "Hierarchical Decoder:\n",
            "  input length: 256\n",
            "  level output lengths: [16, 16]\n",
            "\n",
            "INFO:tensorflow:\n",
            "Decoder Cells:\n",
            "  units: [1024, 1024]\n",
            "\n",
            "INFO:tensorflow:Restoring parameters from /content/checkpoints/mel_16bar_hierdec.ckpt\n",
            "INFO:tensorflow:Building MusicVAE model with BidirectionalLstmEncoder, CategoricalLstmDecoder, and hparams:\n",
            "{'grad_clip': 1.0, 'z_size': 512, 'decay_rate': 0.9999, 'dec_rnn_size': [2048, 2048, 2048], 'free_bits': 256, 'use_cudnn': False, 'residual_encoder': False, 'grad_norm_clip_to_zero': 10000, 'learning_rate': 0.001, 'conditional': True, 'batch_size': 4, 'min_learning_rate': 1e-05, 'sampling_schedule': 'constant', 'max_seq_len': 256, 'residual_decoder': False, 'beta_rate': 0.0, 'enc_rnn_size': [2048, 2048], 'sampling_rate': 0.0, 'max_beta': 0.2, 'dropout_keep_prob': 1.0, 'clip_mode': 'global_norm'}\n",
            "INFO:tensorflow:\n",
            "Encoder Cells (bidirectional):\n",
            "  units: [2048, 2048]\n",
            "\n",
            "INFO:tensorflow:\n",
            "Decoder Cells:\n",
            "  units: [2048, 2048, 2048]\n",
            "\n",
            "INFO:tensorflow:Restoring parameters from /content/checkpoints/mel_16bar_flat.ckpt\n"
          ],
          "name": "stdout"
        }
      ]
    },
    {
      "cell_type": "code",
      "metadata": {
        "colab_type": "code",
        "id": "0cSREtxrXy_E",
        "colab": {}
      },
      "source": [
        "z_size=512\n",
        "same_z_value = np.random.randn(z_size).astype(np.float32)"
      ],
      "execution_count": 0,
      "outputs": []
    },
    {
      "cell_type": "markdown",
      "metadata": {
        "id": "l47dxtR82s0t",
        "colab_type": "text"
      },
      "source": [
        "## Generate Samples"
      ]
    },
    {
      "cell_type": "code",
      "metadata": {
        "id": "Bptfh7C1njpV",
        "colab_type": "code",
        "cellView": "both",
        "outputId": "5769742a-d1fd-4560-aa12-c341b181539d",
        "colab": {
          "base_uri": "https://localhost:8080/",
          "height": 266
        }
      },
      "source": [
        "#@title Generate 4 samples from the selected model prior.\n",
        "mel_sample_model = \"hierdec_mel_16bar\" #@param [\"hierdec_mel_16bar\", \"baseline_flat_mel_16bar\"]\n",
        "temperature = 0.5 #@param {type:\"slider\", min:0.1, max:1.5, step:0.1}\n",
        "mel_16_samples = mel_16bar_models[mel_sample_model].my_sample(n=4, length=256,\n",
        "                                                              temperature=temperature,\n",
        "                                                              same_z=True,\n",
        "                                                              same_z_value=same_z_value)\n",
        "for ns in mel_16_samples:\n",
        "  play(ns)"
      ],
      "execution_count": 0,
      "outputs": [
        {
          "output_type": "stream",
          "text": [
            "('z_size', 512)\n"
          ],
          "name": "stdout"
        },
        {
          "output_type": "display_data",
          "data": {
            "text/plain": [
              "<IPython.core.display.HTML object>"
            ],
            "text/html": [
              "<div id=\"id_37\"> </div>"
            ]
          },
          "metadata": {
            "tags": []
          }
        },
        {
          "output_type": "display_data",
          "data": {
            "text/plain": [
              "<IPython.core.display.HTML object>"
            ],
            "text/html": [
              "<div id=\"id_38\"> </div>"
            ]
          },
          "metadata": {
            "tags": []
          }
        },
        {
          "output_type": "display_data",
          "data": {
            "text/plain": [
              "<IPython.core.display.HTML object>"
            ],
            "text/html": [
              "<div id=\"id_39\"> </div>"
            ]
          },
          "metadata": {
            "tags": []
          }
        },
        {
          "output_type": "display_data",
          "data": {
            "text/plain": [
              "<IPython.core.display.HTML object>"
            ],
            "text/html": [
              "<div id=\"id_40\"> </div>"
            ]
          },
          "metadata": {
            "tags": []
          }
        }
      ]
    },
    {
      "cell_type": "code",
      "metadata": {
        "id": "X4sDzwq623Ei",
        "colab_type": "code",
        "cellView": "form",
        "colab": {}
      },
      "source": [
        "#@title Optionally download MIDI samples.\n",
        "for i, ns in enumerate(mel_16_samples):\n",
        "  download(ns, '%s_sample_%d.mid' % (mel_sample_model, i))"
      ],
      "execution_count": 0,
      "outputs": []
    },
    {
      "cell_type": "markdown",
      "metadata": {
        "id": "_ss6V0582zpU",
        "colab_type": "text"
      },
      "source": [
        "## Generate Means"
      ]
    },
    {
      "cell_type": "code",
      "metadata": {
        "id": "38nwpNp_lprY",
        "colab_type": "code",
        "cellView": "form",
        "colab": {}
      },
      "source": [
        "#@title Option 1: Use example MIDI files for interpolation endpoints.\n",
        "input_mel_16_midi_data = [\n",
        "    tf.gfile.Open(fn).read()\n",
        "    for fn in sorted(tf.gfile.Glob('/content/midi/mel_16bar*.mid'))]"
      ],
      "execution_count": 0,
      "outputs": []
    },
    {
      "cell_type": "code",
      "metadata": {
        "id": "z-7VjVcPUpHN",
        "colab_type": "code",
        "cellView": "form",
        "colab": {}
      },
      "source": [
        "#@title Option 2: upload your own MIDI files to use for interpolation endpoints instead of those provided.\n",
        "input_mel_16_midi_data = files.upload().values() or input_mel_16_midi_data"
      ],
      "execution_count": 0,
      "outputs": []
    },
    {
      "cell_type": "code",
      "metadata": {
        "id": "C-WE4Nq2OJxH",
        "colab_type": "code",
        "cellView": "form",
        "colab": {}
      },
      "source": [
        "#@title Extract melodies from MIDI files. This will extract all unique 16-bar melodies using a sliding window with a stride of 1 bar.\n",
        "mel_input_seqs = [mm.midi_to_sequence_proto(m) for m in input_mel_16_midi_data]\n",
        "extracted_16_mels = []\n",
        "for ns in mel_input_seqs:\n",
        "  extracted_16_mels.extend(\n",
        "      hierdec_mel_16bar_config.data_converter.to_notesequences(\n",
        "          hierdec_mel_16bar_config.data_converter.to_tensors(ns)[1]))\n",
        "for i, ns in enumerate(extracted_16_mels):\n",
        "  print \"Melody\", i\n",
        "  play(ns)"
      ],
      "execution_count": 0,
      "outputs": []
    },
    {
      "cell_type": "code",
      "metadata": {
        "id": "u_Xp1rpTrayv",
        "colab_type": "code",
        "cellView": "form",
        "colab": {}
      },
      "source": [
        "#@title Compute the reconstructions and mean of the two melodies, selected from the previous cell.\n",
        "mel_interp_model = \"hierdec_mel_16bar\" #@param [\"hierdec_mel_16bar\", \"baseline_flat_mel_16bar\"]\n",
        "\n",
        "start_melody = 0 #@param {type:\"integer\"}\n",
        "end_melody = 1 #@param {type:\"integer\"}\n",
        "start_mel = extracted_16_mels[start_melody]\n",
        "end_mel = extracted_16_mels[end_melody]\n",
        "\n",
        "temperature = 0.5 #@param {type:\"slider\", min:0.1, max:1.5, step:0.1}\n",
        "\n",
        "mel_16bar_mean = interpolate(mel_16bar_models[mel_interp_model], start_mel, end_mel, num_steps=3, max_length=256, individual_duration=32, temperature=temperature)"
      ],
      "execution_count": 0,
      "outputs": []
    },
    {
      "cell_type": "code",
      "metadata": {
        "id": "rONYqtlLkyS2",
        "colab_type": "code",
        "cellView": "form",
        "colab": {}
      },
      "source": [
        "#@title Optionally download mean MIDI file.\n",
        "download(mel_16bar_mean, '%s_mean.mid' % mel_interp_model)"
      ],
      "execution_count": 0,
      "outputs": []
    },
    {
      "cell_type": "markdown",
      "metadata": {
        "id": "0d4st_BlUBdl",
        "colab_type": "text"
      },
      "source": [
        "#16-bar \"Trio\" Models (lead, bass, drums)\n",
        "\n",
        "We present two pre-trained models for 16-bar trios: a hierarchical model and a flat (baseline) model.\n",
        "\n",
        "The pre-trained hierarchical model consists of a 2-layer stacked bidirectional LSTM encoder with 2048 nodes in each direction for each layer, a 16-step 2-layer LSTM \"conductor\" decoder with 1024 nodes in each layer, 3 (lead, bass, drums) 2-layer LSTM core decoders with 1024 nodes in each layer, and a Z with 512 dimensions. It was given 1024 free bits, and had a fixed beta value of 0.1.  It was trained with scheduled sampling with an inverse sigmoid schedule and a rate of 1000. After 50k steps, the final accuracy is 0.82 for lead, 0.87 for bass, and 0.90 for drums, and the KL divergence is 1027 bits.\n",
        "\n",
        "The pre-trained flat model consists of a 2-layer stacked bidirectional LSTM encoder with 2048 nodes in each direction for each layer, a 3-layer LSTM decoder with 2048 nodes in each layer, and a Z with 512 dimensions. It was given 1024 free bits, and had a fixed beta value of 0.1.  It was trained with scheduled sampling with an inverse sigmoid schedule and a rate of 1000. After 50k steps, the final accuracy is 0.67 for lead, 0.66 for bass, and 0.79 for drums, and the KL divergence is 1016 bits."
      ]
    },
    {
      "cell_type": "code",
      "metadata": {
        "id": "FDW3h0cqUERq",
        "colab_type": "code",
        "cellView": "form",
        "colab": {}
      },
      "source": [
        "#@title Load the pre-trained models.\n",
        "trio_models = {}\n",
        "hierdec_trio_16bar_config = configs.CONFIG_MAP['hierdec-trio_16bar']\n",
        "trio_models['hierdec_trio_16bar'] = TrainedModel(hierdec_trio_16bar_config, batch_size=4, checkpoint_dir_or_path='/content/checkpoints/trio_16bar_hierdec.ckpt')\n",
        "\n",
        "flat_trio_16bar_config = configs.CONFIG_MAP['flat-trio_16bar']\n",
        "trio_models['baseline_flat_trio_16bar'] = TrainedModel(flat_trio_16bar_config, batch_size=4, checkpoint_dir_or_path='/content/checkpoints/trio_16bar_flat.ckpt')"
      ],
      "execution_count": 0,
      "outputs": []
    },
    {
      "cell_type": "markdown",
      "metadata": {
        "id": "6PxW0_7Z2fvb",
        "colab_type": "text"
      },
      "source": [
        "## Generate Samples"
      ]
    },
    {
      "cell_type": "code",
      "metadata": {
        "id": "XKk8rGihUR6B",
        "colab_type": "code",
        "cellView": "form",
        "colab": {}
      },
      "source": [
        "#@title Generate 4 samples from the selected model prior.\n",
        "trio_sample_model = \"hierdec_trio_16bar\" #@param [\"hierdec_trio_16bar\", \"baseline_flat_trio_16bar\"]\n",
        "temperature = 0.5 #@param {type:\"slider\", min:0.1, max:1.5, step:0.1}\n",
        "\n",
        "trio_16_samples = trio_models[trio_sample_model].sample(n=4, length=256, temperature=temperature)\n",
        "for ns in trio_16_samples:\n",
        "  play(ns)"
      ],
      "execution_count": 0,
      "outputs": []
    },
    {
      "cell_type": "code",
      "metadata": {
        "id": "fic5W7Z7m7Op",
        "colab_type": "code",
        "cellView": "form",
        "colab": {}
      },
      "source": [
        "#@title Optionally download MIDI samples.\n",
        "for i, ns in enumerate(trio_16_samples):\n",
        "  download(ns, '%s_sample_%d.mid' % (trio_sample_model, i))"
      ],
      "execution_count": 0,
      "outputs": []
    },
    {
      "cell_type": "markdown",
      "metadata": {
        "id": "LGIZPuZc2dIa",
        "colab_type": "text"
      },
      "source": [
        "## Generate Means"
      ]
    },
    {
      "cell_type": "code",
      "metadata": {
        "id": "3msZzI89UU_F",
        "colab_type": "code",
        "cellView": "form",
        "colab": {}
      },
      "source": [
        "#@title Option 1: Use example MIDI files for interpolation endpoints.\n",
        "input_trio_midi_data = [\n",
        "    tf.gfile.Open(fn).read()\n",
        "    for fn in sorted(tf.gfile.Glob('/content/midi/trio_16bar*.mid'))]"
      ],
      "execution_count": 0,
      "outputs": []
    },
    {
      "cell_type": "code",
      "metadata": {
        "id": "9ig0w2cSUs9n",
        "colab_type": "code",
        "cellView": "form",
        "colab": {}
      },
      "source": [
        "#@title Option 2: Upload your own MIDI files to use for interpolation endpoints instead of those provided.\n",
        "input_trio_midi_data = files.upload().values() or input_trio_midi_data"
      ],
      "execution_count": 0,
      "outputs": []
    },
    {
      "cell_type": "code",
      "metadata": {
        "id": "mawDY278UZKY",
        "colab_type": "code",
        "cellView": "form",
        "colab": {}
      },
      "source": [
        "#@title Extract trios from MIDI files. This will extract all unique 16-bar trios using a sliding window with a stride of 1 bar.\n",
        "trio_input_seqs = [mm.midi_to_sequence_proto(m) for m in input_trio_midi_data]\n",
        "extracted_trios = []\n",
        "for ns in trio_input_seqs:\n",
        "  extracted_trios.extend(\n",
        "      hierdec_trio_16bar_config.data_converter.to_notesequences(\n",
        "          hierdec_trio_16bar_config.data_converter.to_tensors(ns)[1]))\n",
        "for i, ns in enumerate(extracted_trios):\n",
        "  print \"Trio\", i\n",
        "  play(ns)"
      ],
      "execution_count": 0,
      "outputs": []
    },
    {
      "cell_type": "code",
      "metadata": {
        "id": "UQuTQOlZW1LX",
        "colab_type": "code",
        "cellView": "form",
        "colab": {}
      },
      "source": [
        "#@title Compute the reconstructions and mean of the two trios, selected from the previous cell.\n",
        "trio_interp_model = \"hierdec_trio_16bar\" #@param [\"hierdec_trio_16bar\", \"baseline_flat_trio_16bar\"]\n",
        "\n",
        "start_trio = 0 #@param {type:\"integer\"}\n",
        "end_trio = 1 #@param {type:\"integer\"}\n",
        "start_trio = extracted_trios[start_trio]\n",
        "end_trio = extracted_trios[end_trio]\n",
        "\n",
        "temperature = 0.5 #@param {type:\"slider\", min:0.1, max:1.5, step:0.1}\n",
        "trio_16bar_mean = interpolate(trio_models[trio_interp_model], start_trio, end_trio, num_steps=3, max_length=256, individual_duration=32, temperature=temperature)"
      ],
      "execution_count": 0,
      "outputs": []
    },
    {
      "cell_type": "code",
      "metadata": {
        "id": "bqSklK8CU_cQ",
        "colab_type": "code",
        "cellView": "form",
        "colab": {}
      },
      "source": [
        "#@title Optionally download mean MIDI file.\n",
        "download(trio_16bar_mean, '%s_mean.mid' % trio_interp_model)"
      ],
      "execution_count": 0,
      "outputs": []
    },
    {
      "cell_type": "markdown",
      "metadata": {
        "id": "gAaOadaSRFmi",
        "colab_type": "text"
      },
      "source": [
        "# TEST for JOSH"
      ]
    },
    {
      "cell_type": "code",
      "metadata": {
        "id": "Urr8F-3PRDKj",
        "colab_type": "code",
        "outputId": "0c39c658-a7ff-45e4-d960-23c62fb5fa0b",
        "colab": {
          "base_uri": "https://localhost:8080/",
          "height": 2771
        }
      },
      "source": [
        "#@title Encoding MIDI files into latent vectors\n",
        "\n",
        "# Load the pre-trained model.\n",
        "mel_2bar_config = configs.CONFIG_MAP['cat-mel_2bar_big']\n",
        "mel_2bar = TrainedModel(mel_2bar_config, batch_size=4, checkpoint_dir_or_path='/content/checkpoints/mel_2bar_big.ckpt')\n",
        "\n",
        "# Read midi files\n",
        "input_mel_midi_data = [\n",
        "    tf.gfile.Open(fn).read()\n",
        "    for fn in sorted(tf.gfile.Glob('/content/midi/mel_2bar*.mid'))]\n",
        "\n",
        "# Extract melodies from MIDI files. This will extract all unique 2-bar melodies using a sliding window with a stride of 1 bar.\n",
        "mel_input_seqs = [mm.midi_to_sequence_proto(m) for m in input_mel_midi_data]\n",
        "extracted_mels = []\n",
        "for ns in mel_input_seqs:\n",
        "  extracted_mels.extend(\n",
        "      mel_2bar_config.data_converter.to_notesequences(\n",
        "          mel_2bar_config.data_converter.to_tensors(ns)[1]))\n",
        "for i, ns in enumerate(extracted_mels):\n",
        "  print \"Melody\", i\n",
        "  play(ns)\n",
        "\n",
        "# Encode\n",
        "z, mu, sigma = mel_2bar.encode([extracted_mels[0]])\n",
        "print(z)"
      ],
      "execution_count": 0,
      "outputs": [
        {
          "output_type": "stream",
          "text": [
            "INFO:tensorflow:Building MusicVAE model with BidirectionalLstmEncoder, CategoricalLstmDecoder, and hparams:\n",
            "{'grad_clip': 1.0, 'z_size': 512, 'decay_rate': 0.9999, 'dec_rnn_size': [2048, 2048, 2048], 'free_bits': 0, 'use_cudnn': False, 'residual_encoder': False, 'grad_norm_clip_to_zero': 10000, 'learning_rate': 0.001, 'conditional': True, 'batch_size': 4, 'min_learning_rate': 1e-05, 'sampling_schedule': 'inverse_sigmoid', 'max_seq_len': 32, 'residual_decoder': False, 'beta_rate': 0.99999, 'enc_rnn_size': [2048], 'sampling_rate': 1000, 'max_beta': 0.5, 'dropout_keep_prob': 1.0, 'clip_mode': 'global_norm'}\n"
          ],
          "name": "stdout"
        },
        {
          "output_type": "stream",
          "text": [
            "I0507 03:17:09.375907 140006764197760 base_model.py:158] Building MusicVAE model with BidirectionalLstmEncoder, CategoricalLstmDecoder, and hparams:\n",
            "{'grad_clip': 1.0, 'z_size': 512, 'decay_rate': 0.9999, 'dec_rnn_size': [2048, 2048, 2048], 'free_bits': 0, 'use_cudnn': False, 'residual_encoder': False, 'grad_norm_clip_to_zero': 10000, 'learning_rate': 0.001, 'conditional': True, 'batch_size': 4, 'min_learning_rate': 1e-05, 'sampling_schedule': 'inverse_sigmoid', 'max_seq_len': 32, 'residual_decoder': False, 'beta_rate': 0.99999, 'enc_rnn_size': [2048], 'sampling_rate': 1000, 'max_beta': 0.5, 'dropout_keep_prob': 1.0, 'clip_mode': 'global_norm'}\n"
          ],
          "name": "stderr"
        },
        {
          "output_type": "stream",
          "text": [
            "INFO:tensorflow:\n",
            "Encoder Cells (bidirectional):\n",
            "  units: [2048]\n",
            "\n"
          ],
          "name": "stdout"
        },
        {
          "output_type": "stream",
          "text": [
            "I0507 03:17:09.389429 140006764197760 lstm_models.py:102] \n",
            "Encoder Cells (bidirectional):\n",
            "  units: [2048]\n",
            "\n"
          ],
          "name": "stderr"
        },
        {
          "output_type": "stream",
          "text": [
            "INFO:tensorflow:\n",
            "Decoder Cells:\n",
            "  units: [2048, 2048, 2048]\n",
            "\n"
          ],
          "name": "stdout"
        },
        {
          "output_type": "stream",
          "text": [
            "I0507 03:17:09.400029 140006764197760 lstm_models.py:293] \n",
            "Decoder Cells:\n",
            "  units: [2048, 2048, 2048]\n",
            "\n"
          ],
          "name": "stderr"
        },
        {
          "output_type": "stream",
          "text": [
            "WARNING:tensorflow:Setting non-training sampling schedule from inverse_sigmoid:1000.000000 to constant:1.0.\n"
          ],
          "name": "stdout"
        },
        {
          "output_type": "stream",
          "text": [
            "W0507 03:17:09.402237 140006764197760 lstm_utils.py:201] Setting non-training sampling schedule from inverse_sigmoid:1000.000000 to constant:1.0.\n"
          ],
          "name": "stderr"
        },
        {
          "output_type": "stream",
          "text": [
            "INFO:tensorflow:Restoring parameters from /content/checkpoints/mel_2bar_big.ckpt\n"
          ],
          "name": "stdout"
        },
        {
          "output_type": "stream",
          "text": [
            "I0507 03:17:10.005634 140006764197760 saver.py:1270] Restoring parameters from /content/checkpoints/mel_2bar_big.ckpt\n"
          ],
          "name": "stderr"
        },
        {
          "output_type": "stream",
          "text": [
            "Melody 0\n"
          ],
          "name": "stdout"
        },
        {
          "output_type": "display_data",
          "data": {
            "text/plain": [
              "<IPython.core.display.HTML object>"
            ],
            "text/html": [
              "<div id=\"id_5\"> </div>"
            ]
          },
          "metadata": {
            "tags": []
          }
        },
        {
          "output_type": "stream",
          "text": [
            "Melody 1\n"
          ],
          "name": "stdout"
        },
        {
          "output_type": "display_data",
          "data": {
            "text/plain": [
              "<IPython.core.display.HTML object>"
            ],
            "text/html": [
              "<div id=\"id_6\"> </div>"
            ]
          },
          "metadata": {
            "tags": []
          }
        },
        {
          "output_type": "stream",
          "text": [
            "[[ 1.62543619e+00  3.11946964e+00 -1.64243865e+00  1.13556695e+00\n",
            "  -1.73798537e+00 -8.67999196e-01 -6.16769195e-01  6.43043995e-01\n",
            "   6.89821482e-01 -1.34940374e+00 -2.55347133e-01 -8.76891851e-01\n",
            "   7.95617849e-02 -1.27108359e+00  1.35809198e-01  6.22500122e-01\n",
            "   5.37621081e-01 -6.50310636e-01 -3.27558845e-01  7.06934035e-01\n",
            "   1.26513004e+00 -1.45371747e+00  5.73438287e-01  2.31465340e-01\n",
            "   1.77957284e+00  6.78058028e-01 -2.13153720e-01  2.51270831e-01\n",
            "  -1.08264303e+00  5.10194302e-01 -2.74124108e-02  6.32789657e-02\n",
            "  -6.61399186e-01  8.39210689e-01  5.09998143e-01  1.09978259e+00\n",
            "  -1.39027226e+00 -5.62570870e-01 -4.84564036e-01  1.63528669e+00\n",
            "   5.42952597e-01 -1.54922974e+00  7.55684495e-01  3.31876963e-01\n",
            "   1.66085923e+00 -6.33695722e-01  6.41769230e-01  1.86526167e+00\n",
            "   1.34552968e+00 -2.30026633e-01  1.75811732e+00 -2.45684877e-01\n",
            "   2.66404063e-01 -3.06752801e-01  4.68704522e-01 -5.32599390e-01\n",
            "   1.47929835e+00 -6.93205714e-01  8.61003995e-02  2.30383828e-01\n",
            "   1.14940667e+00 -1.25242507e+00  5.50382674e-01  1.00261426e+00\n",
            "  -4.57070142e-01  7.46345460e-01  5.52879572e-01 -2.45773420e-02\n",
            "  -6.67514920e-01 -1.03108299e+00  2.79604524e-01  5.33061743e-01\n",
            "   8.97289395e-01  1.77653146e+00 -2.70450473e-01 -9.27885592e-01\n",
            "  -2.81032395e+00 -4.49377000e-02  9.74231601e-01 -6.30006313e-01\n",
            "   4.35280472e-01  5.63749611e-01  1.68679214e+00  5.23824573e-01\n",
            "  -5.24046481e-01 -3.64511251e-01 -3.60593051e-02 -1.27586269e+00\n",
            "  -7.30506480e-01  4.92422044e-01 -1.22418749e+00 -5.05163431e-01\n",
            "  -5.90468012e-02 -2.18325782e+00  7.95497894e-02 -2.89280891e-01\n",
            "  -1.28183353e+00 -1.93788648e+00  4.33784157e-01 -2.18273401e+00\n",
            "   8.08261275e-01 -9.08285856e-01 -2.08412230e-01 -1.80801368e+00\n",
            "   3.44729304e-01  5.79756379e-01 -1.65213013e+00 -3.92254680e-01\n",
            "  -1.43748200e+00  1.35423589e+00  3.49501252e-01 -3.01238656e-01\n",
            "   1.16137433e+00  5.90552211e-01  4.41812932e-01 -9.53626037e-01\n",
            "   3.13672781e-01 -3.61599743e-01  1.23572147e+00  6.04568779e-01\n",
            "  -4.16940600e-01  1.15381312e+00  1.69149888e+00  1.28056780e-01\n",
            "   1.52623475e+00 -9.89531130e-02 -1.17098820e+00 -2.02909493e+00\n",
            "   4.60881442e-01 -1.16331172e+00  5.03904819e-01 -1.92165124e+00\n",
            "  -1.84928727e+00 -3.17638367e-01 -5.23032844e-01  6.29983962e-01\n",
            "   4.47677463e-01 -4.49028701e-01 -7.29056776e-01  1.96121013e+00\n",
            "   1.15046549e+00  3.92962873e-01 -2.34456038e+00 -1.02037644e+00\n",
            "  -4.59970474e-01  1.18577778e+00  1.56456149e+00  2.01060295e+00\n",
            "  -3.18955183e-01 -3.95939887e-01 -3.36518317e-01 -1.04278576e+00\n",
            "   1.32120740e+00  3.56209302e+00 -7.36481607e-01  2.98231393e-01\n",
            "   1.17184258e+00 -1.44031167e+00  1.36213100e+00  2.20274791e-01\n",
            "   1.08605266e+00 -2.10106254e+00 -2.31799692e-01 -4.79863495e-01\n",
            "   2.59066534e+00 -3.39858532e-01 -2.43669224e+00  2.17403746e+00\n",
            "   1.52570283e+00 -2.37663537e-01  8.39105010e-01  1.97735325e-01\n",
            "   4.14044917e-01 -6.50810480e-01  1.85820088e-02 -9.00685430e-01\n",
            "  -1.05657168e-01  1.00278223e+00  7.13917315e-02 -5.10066569e-01\n",
            "   2.04840094e-01 -6.67759061e-01  5.22194564e-01 -6.58191621e-01\n",
            "   3.11791599e-01  1.65112019e-01 -6.55472696e-01 -1.66753173e+00\n",
            "   8.69798064e-01 -1.58278489e+00 -2.43603960e-01  9.66512114e-02\n",
            "   7.67439127e-01 -2.94261217e-01 -7.02437699e-01  8.89024913e-01\n",
            "  -1.69693983e+00 -1.59706056e+00 -6.32608354e-01  3.28879714e-01\n",
            "  -2.87137055e+00  7.98314810e-01  2.17455655e-01  1.78311956e+00\n",
            "  -2.39859521e-01 -3.33815992e-01 -6.16601527e-01  1.84891427e+00\n",
            "  -1.56411219e+00  8.45111072e-01  1.35857689e+00 -2.47915432e-01\n",
            "  -3.21421206e-01  8.93057168e-01  3.22508812e-01  2.09933162e-01\n",
            "  -2.64487490e-02  1.03623879e+00 -2.98591018e-01 -1.25995338e-01\n",
            "   1.03850663e+00  8.86798024e-01  1.06465709e+00 -9.77858424e-01\n",
            "  -7.06817135e-02 -1.79865375e-01 -3.56987298e-01 -5.99970341e-01\n",
            "  -1.75586152e+00 -9.63274091e-02 -2.46220517e+00  8.66240025e-01\n",
            "  -1.28990138e+00  1.90103066e+00  5.67931056e-01  1.46800861e-01\n",
            "  -1.94031847e+00  9.31849837e-01 -8.33473504e-01  5.41141033e-01\n",
            "  -6.14505589e-01  5.18372476e-01 -6.23036861e-01 -5.56645691e-01\n",
            "   8.40247869e-02  2.89057828e-02  1.38266349e+00  2.07643080e+00\n",
            "  -7.20476270e-01  1.19952571e+00 -3.53054106e-01  5.07571042e-01\n",
            "  -2.43937874e+00  1.91265857e+00 -1.83245763e-01 -8.40159476e-01\n",
            "  -4.37769145e-01  1.70464575e+00 -1.18031846e-02 -3.54132742e-01\n",
            "  -9.95720804e-01  1.24179102e-01 -9.69086885e-02  3.84592205e-01\n",
            "   1.24834642e-01 -1.18621707e-01 -1.81740379e+00  2.08545849e-03\n",
            "  -7.50445053e-02  9.82439935e-01  4.97913241e-01  1.13885653e+00\n",
            "   1.64532989e-01  1.92225969e+00 -4.91579711e-01  2.84408331e-01\n",
            "  -2.10629553e-01 -1.13252878e+00 -5.27760684e-01  4.44444835e-01\n",
            "   7.43983924e-01 -1.43555582e+00 -1.28500056e+00  4.97498274e-01\n",
            "  -4.39398497e-01 -3.23181301e-02 -6.63810372e-01 -6.64576828e-01\n",
            "  -2.35671377e+00 -4.99509037e-01 -3.50390039e-02  1.69262335e-01\n",
            "   1.23728549e+00  1.25131869e+00 -3.16436321e-01  3.57933939e-01\n",
            "   1.34157407e+00  6.31927922e-02  1.68520018e-01 -1.67337048e+00\n",
            "   9.93174195e-01  1.48207796e+00  2.96051413e-01  4.95492101e-01\n",
            "   1.55501151e+00  2.37080842e-01  2.78842258e+00 -7.40081370e-01\n",
            "   2.11520123e+00 -1.12825894e+00  7.91706264e-01  7.08017647e-01\n",
            "   1.48760080e-01  3.64030272e-01 -2.96777226e-02  5.32937348e-01\n",
            "   1.22767770e+00  1.03586435e-01 -8.92093062e-01  2.64454812e-01\n",
            "  -3.58188391e-01 -1.05811453e+00 -1.32760656e+00  1.42178535e+00\n",
            "   2.72291303e-01 -1.15987551e+00  6.48258805e-01  7.43557692e-01\n",
            "  -1.60147864e-02 -1.07498497e-01  2.61281818e-01 -1.37775421e+00\n",
            "   2.01526904e+00  9.38410282e-01  7.17277884e-01  3.67143393e-01\n",
            "   1.03007540e-01 -1.54473233e+00  2.43673027e-01 -7.93053210e-01\n",
            "   1.99767113e+00  1.39547837e+00  1.16309464e+00 -4.03168797e-01\n",
            "  -5.36149859e-01  3.35753351e-01  9.75438714e-01 -1.51512817e-01\n",
            "   6.26604199e-01 -1.08294785e+00 -4.28937078e-01  2.95173556e-01\n",
            "  -1.24776721e+00  1.22237372e+00  7.82485247e-01 -8.98612812e-02\n",
            "  -1.75320074e-01  1.00513399e-01 -1.40756440e+00  1.19297099e+00\n",
            "   8.11656177e-01 -9.19181228e-01  2.14299515e-01 -3.78879875e-01\n",
            "  -7.94776142e-01  1.30036843e+00  1.77117515e+00 -8.78595591e-01\n",
            "  -1.81544876e+00 -3.75990331e-01 -2.34163666e+00 -1.64527237e+00\n",
            "  -2.35331833e-01  1.49149442e+00  1.14994295e-01  2.32214220e-02\n",
            "  -5.75346947e-01 -1.75572705e+00 -2.21531296e+00  1.55836165e+00\n",
            "   1.12330329e+00  2.16040332e-02  9.24170315e-01  7.33705401e-01\n",
            "   8.10348272e-01 -3.09522569e-01 -2.17197800e+00  7.26482928e-01\n",
            "   2.15501651e-01 -5.99443614e-02 -6.39810205e-01 -6.11980438e-01\n",
            "   2.95885503e-01 -4.13573757e-02 -1.34772682e+00 -9.88370895e-01\n",
            "  -1.02881575e+00 -1.87219059e+00  9.03192580e-01  1.38798440e+00\n",
            "   1.42857268e-01  4.17008132e-01 -1.24597406e+00 -6.85640633e-01\n",
            "   5.36006153e-01  8.83891344e-01  1.15779722e+00 -1.46536672e+00\n",
            "   1.85704458e+00 -1.77664563e-01  7.32870102e-02 -1.22666195e-01\n",
            "   6.45726621e-02 -9.64748859e-02 -1.87347084e-01  5.46850920e-01\n",
            "  -1.55193985e-01 -2.23472103e-01 -7.39854932e-01  1.65512109e+00\n",
            "  -7.92410225e-02  2.00786367e-01 -1.76475048e+00  4.43632156e-03\n",
            "   1.23920538e-01 -3.98406774e-01  2.17411280e+00 -6.17093891e-02\n",
            "   3.66440922e-01 -1.31045669e-01  4.80247676e-01  1.04938257e+00\n",
            "   5.05178571e-01 -1.64731395e+00  2.93011159e-01  1.71851480e+00\n",
            "  -2.53705740e+00 -2.55852103e-01 -4.25286353e-01 -2.32319340e-01\n",
            "  -7.24182963e-01 -1.85585737e-01  1.06579769e+00  2.54616451e+00\n",
            "   5.29992998e-01 -7.53800750e-01  4.89316672e-01 -5.32764494e-01\n",
            "   9.03047502e-01 -1.17396736e+00  1.19045079e+00  5.59269011e-01\n",
            "  -9.19928700e-02 -3.77054691e-01 -1.16644251e+00 -9.61623527e-03\n",
            "   1.30800450e+00  8.42583418e-01 -9.92673099e-01  1.20776005e-01\n",
            "  -9.40651357e-01 -2.95000941e-01  7.54652381e-01  6.05372250e-01\n",
            "  -1.28904521e+00 -3.35613757e-01 -8.52984250e-01  1.38353670e+00\n",
            "   5.30513823e-01 -6.13884628e-01  1.95883155e+00 -1.77684441e-01\n",
            "  -6.03186727e-01  1.16278362e+00  1.18283546e+00 -8.98025036e-01\n",
            "  -8.88804495e-02  5.25927901e-01  7.57445931e-01 -6.14915848e-01\n",
            "  -3.10330927e-01 -1.23843694e+00 -1.13322425e+00 -1.30601048e+00\n",
            "   6.94067299e-01 -9.71699178e-01  3.22162211e-01 -5.47099821e-02\n",
            "  -4.87795472e-01  4.29195166e-01  7.70141780e-01  2.19701648e+00\n",
            "   2.82408774e-01 -7.96320796e-01 -4.25266862e-01  4.08165246e-01\n",
            "   5.59934080e-02  3.21458787e-01  2.73620822e-02 -9.50986981e-01\n",
            "  -7.83578813e-01 -1.64518106e+00  3.94417316e-01 -1.62147176e+00\n",
            "   1.24651217e+00 -5.28278887e-01  4.03282791e-01  8.55723500e-01\n",
            "  -1.29636657e+00 -7.21358240e-01  8.83889914e-01 -2.99737215e-01]]\n"
          ],
          "name": "stdout"
        }
      ]
    },
    {
      "cell_type": "code",
      "metadata": {
        "id": "TQAik5bwScZA",
        "colab_type": "code",
        "outputId": "d56e462d-5767-4da7-8d46-12f2ac423acd",
        "colab": {
          "base_uri": "https://localhost:8080/",
          "height": 34
        }
      },
      "source": [
        ""
      ],
      "execution_count": 0,
      "outputs": [
        {
          "output_type": "execute_result",
          "data": {
            "text/plain": [
              "(1, 512)"
            ]
          },
          "metadata": {
            "tags": []
          },
          "execution_count": 18
        }
      ]
    },
    {
      "cell_type": "code",
      "metadata": {
        "id": "r7odpwrHSn32",
        "colab_type": "code",
        "colab": {}
      },
      "source": [
        ""
      ],
      "execution_count": 0,
      "outputs": []
    }
  ]
}